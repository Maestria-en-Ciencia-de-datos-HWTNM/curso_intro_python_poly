{
 "cells": [
  {
   "cell_type": "markdown",
   "metadata": {},
   "source": [
    "<font size=6>\n",
    "\n",
    "<b>Curso de Programación en Python</b>\n",
    "</font>\n",
    "\n",
    "<font size=4>\n",
    "    \n",
    "Diplomado en Argumentación y Narrativa Soportada en Análisis de Datos. <br/>\n",
    "Politécnico Gran Colombiano - Septiembre, 2024\n",
    "\n",
    "Héctor Javier Hortúa\n",
    "\n",
    "hector.hortua@desy.de\n",
    "</font>\n",
    "\n",
    "https://github.com/Maestria-en-Ciencia-de-datos-HWTNM/curso_intro_python_poly\n",
    "\n",
    "<br/>\n",
    "\n",
    "<img src= \"https://upload.wikimedia.org/wikipedia/commons/thumb/7/76/Logo_del_Polit%C3%A9cnico_Grancolombiano.svg/1200px-Logo_del_Polit%C3%A9cnico_Grancolombiano.svg.png\" width=300>"
   ]
  },
  {
   "cell_type": "markdown",
   "metadata": {},
   "source": []
  },
  {
   "cell_type": "markdown",
   "metadata": {},
   "source": [
    "# Tema 1 - Objetivos y Contenido"
   ]
  },
  {
   "cell_type": "markdown",
   "metadata": {},
   "source": [
    "## Objetivos\n",
    "\n",
    "-  Aprender conceptos básicos como variables, tipos de datos, operadores, estructuras de control (condicionales y bucles), funciones y módulos.\n",
    "-  Pensar de manera estructurada y a resolver problemas de forma eficiente con python.\n",
    "- Usar librerías como Pandas y NumPy, para cargar, limpiar y analizar grandes conjuntos de datos de manera eficiente.\n",
    "\n",
    "\n",
    "## Motivación\n",
    "\n",
    "- Python permite abordar proyectos más ambiciosos en el futuro, como análisis de datos, desarrollo web, machine learning, etc.\n",
    "-  Librerías como Matplotlib y Seaborn  permiten crear gráficos y visualizaciones para entender mejor tus datos.\n",
    "-  Python es el lenguaje de programación más utilizado en el campo de la Inteligencia Artificial y el Machine Learning.\n",
    "- Frameworks como Flask y Django  permiten crear aplicaciones web interactivas.\n",
    "-  Los profesionales con conocimientos en Python son muy solicitados en el mercado laboral actual.\n"
   ]
  },
  {
   "cell_type": "markdown",
   "metadata": {},
   "source": [
    "## Contenido\n",
    "- Sintaxis y Palabras reservadas\n",
    "- Hola Mundo\n",
    "- Variables y tipos de datos\n",
    "- Operadores matemáticos y lógicos\n",
    "- Condicionales\n",
    "- Loops/Ciclos\n",
    "- Funciones\n",
    "- Numpy\n",
    "- pandas\n",
    "- Visualización\n",
    "\n",
    "\n",
    "## Metodología\n",
    "- Dinámica del curso:\n",
    "  - 80\\% práctica - 20\\% ejercicios\n",
    "- Calificaciones: \n",
    "  - ejercicios(20\\%)\n",
    "  - proyecto del curso(80\\%).\n",
    "\n",
    "\n"
   ]
  },
  {
   "cell_type": "markdown",
   "metadata": {},
   "source": [
    "## Referencias\n",
    "- http://python.org\n",
    "- Automatizando tareas aburridas con Python\" de Al Sweigart\n",
    "- \"Python Crash Course\" de Eric Matthes\n",
    "- \"Fluent Python\" de Luciano Ramalho\n",
    "- \"Aprendiendo Python: Programación Potente Orientada a Objetos\" de Mark Lutz\n",
    "- https://github.com/andelpe/curso-intro-python de Antonio Delgado Peris\n",
    "- _Google_, _Stack Overflow_, _ChatGPT_ "
   ]
  },
  {
   "cell_type": "markdown",
   "metadata": {},
   "source": [
    "## Instalación de Python\n",
    "\n",
    "- En sistemas Unix/Linux, Python viene ya instalado por defecto (incluso es usado por el propio S.O.).\n",
    "\n",
    "- Si la instalación es en Windows marcar la opción de añadir Python al PATH. Ver notas en: https://docs.python.org/3/using/windows.html\n",
    "\n"
   ]
  },
  {
   "cell_type": "markdown",
   "metadata": {},
   "source": [
    "### Instalación de paquetes externos\n",
    "\n",
    "La forma más usual para instalar paquetes Python es `pip`. \n",
    "\n",
    "Instala paquetes del Python Package Index (PyPi): https://pypi.org/\n",
    "\n",
    "    python3 -m pip install pandas\n",
    "    # o       \n",
    "    pip install pandas"
   ]
  },
  {
   "cell_type": "markdown",
   "metadata": {},
   "source": []
  },
  {
   "cell_type": "markdown",
   "metadata": {},
   "source": [
    "## Ambiente Conda\n",
    "Crear un entorno virtual (en directorio `[Conda]/envs/data`):\n",
    "\n",
    "    $> conda create -n data [python=3.6]\n",
    "      \n",
    "\n",
    "Activar el entorno virtual `data` (para instalar nuevos paquetes, o para utilizarlo):\n",
    "\n",
    "    $> conda activate data\n",
    "    (data) $> \n",
    "\n",
    "\n",
    "Instalar los paquetes necesarios:\n",
    "\n",
    "    (data) $> conda install jupyterlab matplotlib pytest\n",
    "\n",
    "Para salir del entorno virtual:    \n",
    "\n",
    "    (data) $> conda deactivate"
   ]
  },
  {
   "cell_type": "markdown",
   "metadata": {},
   "source": [
    "### Jupyter Notebook\n",
    "\n",
    "- Simplicidad: Su interfaz es sencilla y fácil de usar, ideal para quienes se inician en el análisis de datos.\n",
    "- Ligereza: Consume menos recursos del sistema, lo que lo hace adecuado para equipos menos potentes.\n",
    "- Popularidad: Es ampliamente utilizado y cuenta con una gran comunidad en línea, lo que facilita encontrar recursos y soluciones a problemas.\n",
    "- Ideal para documentos: Perfecto para crear documentos que mezclan código, texto (Markdown) y resultados, lo que lo hace excelente para compartir tus hallazgos con otros.\n",
    "\n",
    "### JupyterLab\n",
    "\n",
    "- Flexibilidad: Ofrece una interfaz más moderna y personalizable, similar a un IDE (Entorno de Desarrollo Integrado).\n",
    "- Multitarea: Puedes trabajar con múltiples notebooks, archivos de texto, terminales y otros componentes en una misma ventana, lo que aumenta tu productividad.\n",
    "- Extensibilidad: Cuenta con una arquitectura modular que permite agregar fácilmente nuevas funcionalidades a través de extensiones.\n",
    "- Visualización mejorada: Ofrece mejores capacidades de visualización de datos y una integración más fluida con diferentes herramientas.\n",
    "- Futuro: Es el futuro de Jupyter, con actualizaciones constantes y nuevas características.\n",
    "\n",
    "### Google Colab\n",
    "Es una herramienta muy popular y poderosa para trabajar con Python, especialmente en el ámbito de la ciencia de datos y el machine learning. \n",
    "\n",
    "- Acceso Gratuito a Recursos Computacionales: Colab brinda acceso gratuito a GPUs y TPUs, lo cual es esencial para tareas que requieren gran poder de cómputo, como el entrenamiento de modelos de deep learning.\n",
    "\n",
    "- Entorno Basado en la Nube: No requiere instalar nada en el equipo, simplemente acceder a Colab a través del navegador. Integración seamless con Google Drive para guardar y compartir los notebooks.\n",
    "\n",
    "- Ideal para Aprendizaje y Experimentación: La interfaz es intuitiva y fácil de aprender.\n"
   ]
  },
  {
   "cell_type": "markdown",
   "metadata": {},
   "source": []
  }
 ],
 "metadata": {
  "kernelspec": {
   "display_name": "Python 3",
   "language": "python",
   "name": "python3"
  },
  "language_info": {
   "name": "python",
   "version": "3.9.18"
  }
 },
 "nbformat": 4,
 "nbformat_minor": 2
}
