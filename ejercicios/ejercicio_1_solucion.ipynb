{
 "cells": [
  {
   "cell_type": "markdown",
   "metadata": {},
   "source": [
    "1- Escribir un código que imprima el siguiente patrón usando un loop:\n",
    "\n",
    "1 \\\n",
    "1 2 \\\n",
    "1 2 3 \\\n",
    "1 2 3 4 \\\n",
    "1 2 3 4 5 "
   ]
  },
  {
   "cell_type": "code",
   "execution_count": 44,
   "metadata": {},
   "outputs": [
    {
     "name": "stdout",
     "output_type": "stream",
     "text": [
      "1 \n",
      "1 2 \n",
      "1 2 3 \n",
      "1 2 3 4 \n",
      "1 2 3 4 5 \n"
     ]
    }
   ],
   "source": [
    "for i in range(1, 6):\n",
    "    for j in range(1, i + 1):\n",
    "        print(j,end=' ')\n",
    "    \n",
    "    print(\"\")"
   ]
  },
  {
   "cell_type": "markdown",
   "metadata": {},
   "source": [
    "2- Escribir un código que acepte un número dado por el usuario y calcular la suma de todos los números de 1 hasta el número dado."
   ]
  },
  {
   "cell_type": "code",
   "execution_count": 4,
   "metadata": {},
   "outputs": [
    {
     "name": "stdin",
     "output_type": "stream",
     "text": [
      "número  10\n"
     ]
    },
    {
     "name": "stdout",
     "output_type": "stream",
     "text": [
      "Suma es:  55\n"
     ]
    }
   ],
   "source": [
    "s = 0\n",
    "n = int(input(\"número \"))\n",
    "for i in range(1, n + 1):\n",
    "    s += i\n",
    "print(\"Suma es: \", s)"
   ]
  },
  {
   "cell_type": "markdown",
   "metadata": {},
   "source": [
    "3- Invertir  números enteros: ejp: de 12345 a 54321"
   ]
  },
  {
   "cell_type": "code",
   "execution_count": 46,
   "metadata": {},
   "outputs": [
    {
     "name": "stdout",
     "output_type": "stream",
     "text": [
      "24567\n"
     ]
    }
   ],
   "source": [
    "num  = 76542\n",
    "num_str=str(num)\n",
    "num1 = num_str[::-1]\n",
    "print(int(num1))"
   ]
  },
  {
   "cell_type": "markdown",
   "metadata": {},
   "source": [
    "4- Escribir un código que genere el siguiente patrón:\n",
    "\n",
    "\\* \\\n",
    "\\* \\* \\\n",
    "\\* \\* \\* \\\n",
    "\\* \\* \\* \\* \\\n",
    "\\* \\* \\* \\* \\* \\\n",
    "\\* \\* \\* \\* \\\n",
    "\\* \\* \\* \\\n",
    "\\* \\* \\\n",
    "\\* \n"
   ]
  },
  {
   "cell_type": "code",
   "execution_count": 22,
   "metadata": {},
   "outputs": [
    {
     "name": "stdout",
     "output_type": "stream",
     "text": [
      "* \n",
      "* * \n",
      "* * * \n",
      "* * * * \n",
      "* * * * * \n",
      "* * * * \n",
      "* * * \n",
      "* * \n",
      "* \n"
     ]
    }
   ],
   "source": [
    "n=5\n",
    "for i in range(1,10):\n",
    "    if i>n:\n",
    "        j=(10-i)\n",
    "    else:\n",
    "        j=i\n",
    "    print(j*\"* \")"
   ]
  },
  {
   "cell_type": "markdown",
   "metadata": {},
   "source": [
    "5- Imprimir elementos de una lista que presenten indices impares:\n",
    "[1,2,3,4,5,6] => [2,4,6]"
   ]
  },
  {
   "cell_type": "code",
   "execution_count": 24,
   "metadata": {},
   "outputs": [
    {
     "data": {
      "text/plain": [
       "[20, 40, 60, 80, 100]"
      ]
     },
     "execution_count": 24,
     "metadata": {},
     "output_type": "execute_result"
    }
   ],
   "source": [
    "my_list = [10, 20, 30, 40, 50, 60, 70, 80, 90, 100]\n",
    "my_list[1::2]\n",
    "    "
   ]
  },
  {
   "cell_type": "markdown",
   "metadata": {},
   "source": [
    "6- Escribir un código para obtener la serie de Fibonacci entre 0 y 50.\n",
    "\n",
    "1, 1, 2, 3, 5, 8, 13, 21, 34, ..."
   ]
  },
  {
   "cell_type": "code",
   "execution_count": 26,
   "metadata": {},
   "outputs": [
    {
     "name": "stdout",
     "output_type": "stream",
     "text": [
      "1\n",
      "1\n",
      "2\n",
      "3\n",
      "5\n",
      "8\n",
      "13\n",
      "21\n",
      "34\n"
     ]
    }
   ],
   "source": [
    "x, y = 0, 1\n",
    "while y < 50:\n",
    "    print(y)\n",
    "    x, y = y, x + y"
   ]
  },
  {
   "cell_type": "markdown",
   "metadata": {},
   "source": [
    "7- Escribir un código que itera los enteros del 1 al 50. Para múltiplos de 3 imprimir \"Fizz\" en vez del número y para múltiplos de 5 imprimir \"Buzz\". Y para números que son múltiplos de de 3 y 5 imprimir \"FizzBuzz\"."
   ]
  },
  {
   "cell_type": "code",
   "execution_count": 28,
   "metadata": {},
   "outputs": [
    {
     "name": "stdout",
     "output_type": "stream",
     "text": [
      "1\n",
      "2\n",
      "fizz\n",
      "4\n",
      "buzz\n",
      "fizz\n",
      "7\n",
      "8\n",
      "fizz\n",
      "buzz\n",
      "11\n",
      "fizz\n",
      "13\n",
      "14\n",
      "fizzbuzz\n",
      "16\n",
      "17\n",
      "fizz\n",
      "19\n",
      "buzz\n",
      "fizz\n",
      "22\n",
      "23\n",
      "fizz\n",
      "buzz\n",
      "26\n",
      "fizz\n",
      "28\n",
      "29\n",
      "fizzbuzz\n",
      "31\n",
      "32\n",
      "fizz\n",
      "34\n",
      "buzz\n",
      "fizz\n",
      "37\n",
      "38\n",
      "fizz\n",
      "buzz\n",
      "41\n",
      "fizz\n",
      "43\n",
      "44\n",
      "fizzbuzz\n",
      "46\n",
      "47\n",
      "fizz\n",
      "49\n",
      "buzz\n"
     ]
    }
   ],
   "source": [
    "for fizzbuzz in range(1,51):\n",
    "    if fizzbuzz % 3 == 0 and fizzbuzz % 5 == 0:\n",
    "        print(\"fizzbuzz\")\n",
    "        continue\n",
    "    elif fizzbuzz % 3 == 0:\n",
    "        print(\"fizz\")\n",
    "        continue\n",
    "    elif fizzbuzz % 5 == 0:\n",
    "        print(\"buzz\")\n",
    "        continue\n",
    "    print(fizzbuzz)"
   ]
  },
  {
   "cell_type": "markdown",
   "metadata": {},
   "source": [
    "8- Verificar si una letra dada por el usuario es una vocal o una consonante. Imprimir error si el usuario no escribe una letra."
   ]
  },
  {
   "cell_type": "code",
   "execution_count": 34,
   "metadata": {},
   "outputs": [
    {
     "name": "stdout",
     "output_type": "stream",
     "text": [
      "d es consonante.\n"
     ]
    }
   ],
   "source": [
    "lx = input(\"Entrar una letra del alfabeto: \")\n",
    "\n",
    "if not lx.isdigit():\n",
    "    if lx in ('a', 'e', 'i', 'o', 'u'):\n",
    "        print(f\"{lx} es vocal.\")  \n",
    "    else:\n",
    "        print(f\"{lx} es consonante.\")\n",
    "else:\n",
    "    raise Exception(\"debe escribir una letra\") "
   ]
  },
  {
   "cell_type": "markdown",
   "metadata": {},
   "source": [
    "9- Calcular el número de digitos y letras en una cadena"
   ]
  },
  {
   "cell_type": "code",
   "execution_count": 40,
   "metadata": {},
   "outputs": [
    {
     "name": "stdout",
     "output_type": "stream",
     "text": [
      "Letras 15\n",
      "Digitos 0\n",
      "Cadena Entrar una cadena\n"
     ]
    }
   ],
   "source": [
    "s = input(\"Entrar una cadena\")\n",
    "d = l = 0\n",
    "for c in s:\n",
    "    if c.isdigit():\n",
    "        d +=  1\n",
    "        \n",
    "    elif c.isalpha():\n",
    "        l +=  1\n",
    "    else:\n",
    "        continue\n",
    "print(\"Letras\", l)\n",
    "print(\"Digitos\", d)\n",
    "print(\"Cadena\", s)"
   ]
  },
  {
   "cell_type": "markdown",
   "metadata": {},
   "source": [
    "10- Calcular la suma de números que ingresa el usuario hasta que una letra es escontrada"
   ]
  },
  {
   "cell_type": "code",
   "execution_count": 5,
   "metadata": {},
   "outputs": [
    {
     "name": "stdin",
     "output_type": "stream",
     "text": [
      "Ingrese un número (o una letra para terminar):  9\n",
      "Ingrese un número (o una letra para terminar):  25\n",
      "Ingrese un número (o una letra para terminar):  d\n"
     ]
    },
    {
     "name": "stdout",
     "output_type": "stream",
     "text": [
      "Se encontró una letra. La suma total es: 34.0\n"
     ]
    }
   ],
   "source": [
    "suma = 0\n",
    "while True:\n",
    "    entrada = input(\"Ingrese un número (o una letra para terminar): \")\n",
    "    if entrada.isdigit():\n",
    "      suma += float(entrada)\n",
    "    else:\n",
    "      print(\"Se encontró una letra. La suma total es:\", suma)\n",
    "      break\n"
   ]
  },
  {
   "cell_type": "code",
   "execution_count": null,
   "metadata": {},
   "outputs": [],
   "source": []
  }
 ],
 "metadata": {
  "kernelspec": {
   "display_name": "Python 3 (ipykernel)",
   "language": "python",
   "name": "python3"
  },
  "language_info": {
   "codemirror_mode": {
    "name": "ipython",
    "version": 3
   },
   "file_extension": ".py",
   "mimetype": "text/x-python",
   "name": "python",
   "nbconvert_exporter": "python",
   "pygments_lexer": "ipython3",
   "version": "3.9.18"
  }
 },
 "nbformat": 4,
 "nbformat_minor": 4
}
