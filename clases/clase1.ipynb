{
 "cells": [
  {
   "cell_type": "markdown",
   "metadata": {},
   "source": [
    "# Clase 1 - Python Básico\n",
    "## Diplomado en Argumentación y Narrativa Soportada en Análisis de Datos\n",
    "### Politécnico Gran Colombiano - 2024\n",
    "<img src= \"https://upload.wikimedia.org/wikipedia/commons/thumb/7/76/Logo_del_Polit%C3%A9cnico_Grancolombiano.svg/1200px-Logo_del_Polit%C3%A9cnico_Grancolombiano.svg.png\" width=300>\n",
    "\n",
    "# Introducción a Python"
   ]
  },
  {
   "cell_type": "code",
   "execution_count": 1,
   "metadata": {},
   "outputs": [
    {
     "name": "stdout",
     "output_type": "stream",
     "text": [
      "Python 3.9.18\n"
     ]
    }
   ],
   "source": [
    "!python --version"
   ]
  },
  {
   "cell_type": "markdown",
   "metadata": {},
   "source": [
    "## Palabras reservadas\n",
    "\n",
    "Las palabras reservadas de un lenguaje de programación son aquellas que son propias del mismo y por ello no pueden ser usadas para ningún propósito en partícular (Variables, valores, etc)"
   ]
  },
  {
   "cell_type": "code",
   "execution_count": 10,
   "metadata": {},
   "outputs": [
    {
     "data": {
      "text/plain": [
       "['False',\n",
       " 'None',\n",
       " 'True',\n",
       " '__peg_parser__',\n",
       " 'and',\n",
       " 'as',\n",
       " 'assert',\n",
       " 'async',\n",
       " 'await',\n",
       " 'break',\n",
       " 'class',\n",
       " 'continue',\n",
       " 'def',\n",
       " 'del',\n",
       " 'elif',\n",
       " 'else',\n",
       " 'except',\n",
       " 'finally',\n",
       " 'for',\n",
       " 'from',\n",
       " 'global',\n",
       " 'if',\n",
       " 'import',\n",
       " 'in',\n",
       " 'is',\n",
       " 'lambda',\n",
       " 'nonlocal',\n",
       " 'not',\n",
       " 'or',\n",
       " 'pass',\n",
       " 'raise',\n",
       " 'return',\n",
       " 'try',\n",
       " 'while',\n",
       " 'with',\n",
       " 'yield']"
      ]
     },
     "execution_count": 10,
     "metadata": {},
     "output_type": "execute_result"
    }
   ],
   "source": [
    "import keyword\n",
    "keyword.kwlist"
   ]
  },
  {
   "cell_type": "code",
   "execution_count": 9,
   "metadata": {},
   "outputs": [
    {
     "name": "stdout",
     "output_type": "stream",
     "text": [
      "Hello world!\n",
      "hola a todos\n",
      "      bienvenidos!\n"
     ]
    }
   ],
   "source": [
    "# Imprimir Hello world!\n",
    "\"\"\"\n",
    "Imprimir Hello world!\n",
    "\"\"\"\n",
    "\n",
    "\n",
    "print('Hello world!')\n",
    "\n",
    "print('''hola a todos\n",
    "      bienvenidos!''')"
   ]
  },
  {
   "cell_type": "code",
   "execution_count": 3,
   "metadata": {},
   "outputs": [
    {
     "name": "stdout",
     "output_type": "stream",
     "text": [
      "GFG\n"
     ]
    }
   ],
   "source": [
    "print('G','F', sep='', end='')\n",
    "print('G')"
   ]
  },
  {
   "cell_type": "code",
   "execution_count": 3,
   "metadata": {},
   "outputs": [
    {
     "name": "stdout",
     "output_type": "stream",
     "text": [
      "09-12-2016\n",
      "Rojo,verde,Azul@Hola\n"
     ]
    }
   ],
   "source": [
    "print('09','12','2016', sep='-', end='\\n')\n",
    "print('Rojo','verde','Azul', sep=',', end='@')\n",
    "print('Hola')"
   ]
  },
  {
   "cell_type": "markdown",
   "metadata": {},
   "source": [
    "# Tipos de datos en Python"
   ]
  },
  {
   "cell_type": "markdown",
   "metadata": {},
   "source": [
    "## Tipos de Datos Primitivos\n",
    "\n",
    "Los datos primitivos son los bloques básicos de construcción en Python. Son valores simples e inmutables, lo que significa que una vez asignados, no pueden ser modificados directamente. Los tipos de datos primitivos más comunes en Python son:\n",
    "\n",
    "- Numéricos:\n",
    "    - int: Números enteros (ej: 42, -10, 0)\n",
    "    - float: Números con decimales (ej: 3.14, -2.5, 1.0e-5)\n",
    "    - complex: Números complejos (ej: 2+3j, -1-0.5j)\n",
    "- Booleano:\n",
    "    - bool: Valores lógicos (True o False)\n",
    "- None:\n",
    "    - None: Representa la ausencia de un valor\n",
    "- Cadena de caracteres:\n",
    "    - str: Secuencia de caracteres (ej: \"Hola\", \"mundo\", \"\")\n",
    "\n",
    "## Tipos de Datos Objeto\n",
    "\n",
    "Los tipos de datos objeto, por otro lado, son más complejos y versátiles. Son como contenedores que pueden almacenar múltiples valores y, a menudo, tienen métodos asociados para realizar operaciones sobre esos valores. Los tipos de datos objeto más comunes en Python son:\n",
    "\n",
    "- Listas: Colecciones ordenadas de elementos (ej: [1, 2, 3], [\"manzana\", \"banana\", \"cereza\"])\n",
    "- Tuplas: Colecciones ordenadas e inmutables de elementos (ej: (1, 2, 3), (\"manzana\", \"banana\", \"cereza\"))\n",
    "- Diccionarios: Colecciones de pares clave-valor (ej: {\"nombre\": \"Alicia\", \"edad\": 30}, {\"frutas\": [\"manzana\", \"banana\"]})\n",
    "- Conjuntos: Colecciones no ordenadas de elementos únicos (ej: {1, 2, 3}, {\"manzana\", \"banana\"})\n",
    "- Clases: Plantillas para crear objetos personalizados con sus propios atributos y métodos\n",
    "\n",
    "#### ¿Cuál es la diferencia principal entre ambos?\n",
    "\n",
    "- Mutabilidad: Los tipos de datos primitivos son inmutables, mientras que los tipos de datos objeto suelen ser mutables, lo que significa que puedes modificar sus elementos después de crearlos.\n",
    "- Complejidad: Los tipos de datos objeto son más complejos y ofrecen más funcionalidades que los tipos de datos primitivos.\n",
    "- Almacenamiento: Los tipos de datos primitivos se almacenan directamente en la memoria, mientras que los tipos de datos objeto son referencias a objetos almacenados en otra parte de la memoria."
   ]
  },
  {
   "cell_type": "markdown",
   "metadata": {},
   "source": [
    "## Tipos de Datos Primitivos"
   ]
  },
  {
   "cell_type": "markdown",
   "metadata": {},
   "source": [
    "| Tipo de dato | Descripción | Ejemplos | Uso común |\n",
    "|---|---|---|---|\n",
    "| **Entero (int)** | Números enteros sin parte decimal. | 42, -10, 0 | Conteo, índices, operaciones aritméticas básicas. |\n",
    "| **Flotante (float)** | Números reales con parte decimal. | 3.14, -2.5, 1.0e-5 | Medidas, cálculos científicos, operaciones que requieren precisión decimal. |\n",
    "| **Complejo (complex)** | Números con parte real e imaginaria. | 2+3j, -1-0.5j | Matemáticas, física, procesamiento de señales. |\n",
    "\n",
    "**Resumen:**\n",
    "\n",
    "* **Enteros:** Perfectos para representar cantidades exactas y discretas.\n",
    "* **Flotantes:** Ideales para valores con decimales, como medidas físicas o resultados de cálculos científicos.\n",
    "* **Complejos:** Esenciales en áreas donde los números complejos son fundamentales, como la electrónica o la teoría de señales.\n"
   ]
  },
  {
   "cell_type": "markdown",
   "metadata": {},
   "source": [
    "- Casting: Esto es especialmente útil cuando se necesita realizar operaciones entre diferentes tipos de datos o cuando se desea obtener un tipo de dato específico para un propósito particular."
   ]
  },
  {
   "cell_type": "markdown",
   "metadata": {},
   "source": [
    "### asignaciones\n",
    "\n",
    "Podemos asignar valores a variables usando el operador =. Una variable es simplemente un nombre que le damos a un valor particular. "
   ]
  },
  {
   "cell_type": "code",
   "execution_count": 23,
   "metadata": {},
   "outputs": [
    {
     "name": "stdout",
     "output_type": "stream",
     "text": [
      "2\n"
     ]
    }
   ],
   "source": [
    "\"\"\"\n",
    "Primero, asignamos el valor 2 al nombre x. \n",
    "Después de eso, x contendrá el valor 2. Python almacenó el valor 2 en x. \n",
    "Finalmente, imprimimos el valor.\n",
    "\"\"\"\n",
    "x = 2\n",
    "print(x)"
   ]
  },
  {
   "cell_type": "code",
   "execution_count": 24,
   "metadata": {},
   "outputs": [
    {
     "name": "stdout",
     "output_type": "stream",
     "text": [
      "4\n",
      "True\n",
      "False\n"
     ]
    }
   ],
   "source": [
    "print(x * x)\n",
    "print(x == x)\n",
    "print(x > 6)"
   ]
  },
  {
   "cell_type": "code",
   "execution_count": 26,
   "metadata": {},
   "outputs": [
    {
     "name": "stdout",
     "output_type": "stream",
     "text": [
      "3\n"
     ]
    }
   ],
   "source": [
    "zs = x + 1\n",
    "print(zs)"
   ]
  },
  {
   "cell_type": "code",
   "execution_count": 27,
   "metadata": {},
   "outputs": [
    {
     "name": "stdout",
     "output_type": "stream",
     "text": [
      "4\n"
     ]
    }
   ],
   "source": [
    "zs += 1\n",
    "print(zs)"
   ]
  },
  {
   "cell_type": "code",
   "execution_count": 31,
   "metadata": {},
   "outputs": [
    {
     "data": {
      "text/plain": [
       "5"
      ]
     },
     "execution_count": 31,
     "metadata": {},
     "output_type": "execute_result"
    }
   ],
   "source": [
    "a = 3\n",
    "a + 2"
   ]
  },
  {
   "cell_type": "code",
   "execution_count": 12,
   "metadata": {},
   "outputs": [
    {
     "name": "stdout",
     "output_type": "stream",
     "text": [
      "<class 'int'>\n",
      "<class 'float'>\n",
      "<class 'float'> 11.0\n"
     ]
    }
   ],
   "source": [
    "# entero\n",
    "x = 7\n",
    "\n",
    "# flotante\n",
    "y = 4.0\n",
    "\n",
    "print ( type(x) )\n",
    "print ( type(y) )\n",
    "\n",
    "z = x + y \n",
    "\n",
    "# z hereda el tipo flotante\n",
    "print (type(z), z)"
   ]
  },
  {
   "cell_type": "code",
   "execution_count": 16,
   "metadata": {},
   "outputs": [
    {
     "name": "stdout",
     "output_type": "stream",
     "text": [
      "7 <class 'int'>\n",
      "7.0 <class 'float'>\n",
      "7.0 <class 'str'>\n"
     ]
    }
   ],
   "source": [
    "# casting\n",
    "var_int = 7\n",
    "print(var_int, type(var_int))\n",
    "\n",
    "var_float = float(var_int)\n",
    "print(var_float, type(var_float))\n",
    "\n",
    "var_str = str(var_float)\n",
    "print(var_str, type(var_str))"
   ]
  },
  {
   "cell_type": "code",
   "execution_count": 17,
   "metadata": {},
   "outputs": [
    {
     "name": "stdout",
     "output_type": "stream",
     "text": [
      "7 <class 'int'>\n"
     ]
    }
   ],
   "source": [
    "var_float_int = int(var_float)\n",
    "print(var_float_int, type(var_float_int))"
   ]
  },
  {
   "cell_type": "code",
   "execution_count": 18,
   "metadata": {},
   "outputs": [
    {
     "ename": "ValueError",
     "evalue": "invalid literal for int() with base 10: '7.0'",
     "output_type": "error",
     "traceback": [
      "\u001b[1;31m---------------------------------------------------------------------------\u001b[0m",
      "\u001b[1;31mValueError\u001b[0m                                Traceback (most recent call last)",
      "Cell \u001b[1;32mIn[18], line 1\u001b[0m\n\u001b[1;32m----> 1\u001b[0m var_int \u001b[38;5;241m=\u001b[39m \u001b[38;5;28;43mint\u001b[39;49m\u001b[43m(\u001b[49m\u001b[43mvar_str\u001b[49m\u001b[43m)\u001b[49m\n\u001b[0;32m      2\u001b[0m \u001b[38;5;28mprint\u001b[39m(var_int, \u001b[38;5;28mtype\u001b[39m(var_int))\n",
      "\u001b[1;31mValueError\u001b[0m: invalid literal for int() with base 10: '7.0'"
     ]
    }
   ],
   "source": [
    "var_int = int(var_str)\n",
    "print(var_int, type(var_int))"
   ]
  },
  {
   "cell_type": "code",
   "execution_count": 36,
   "metadata": {},
   "outputs": [
    {
     "name": "stdout",
     "output_type": "stream",
     "text": [
      "(3+4j)\n",
      "(1-2j)\n",
      "Suma: (4+2j)\n"
     ]
    }
   ],
   "source": [
    "# Ejemplo de operaciones con números complejos\n",
    "z1 = 3+4j\n",
    "z2 = 1-2j\n",
    "print(z1)\n",
    "print(z2)\n",
    "# Suma\n",
    "suma = z1 + z2\n",
    "print(\"Suma:\", suma)\n"
   ]
  },
  {
   "cell_type": "code",
   "execution_count": 38,
   "metadata": {},
   "outputs": [
    {
     "name": "stdout",
     "output_type": "stream",
     "text": [
      "None\n"
     ]
    }
   ],
   "source": [
    "x = None\n",
    "print(x) "
   ]
  },
  {
   "cell_type": "code",
   "execution_count": 42,
   "metadata": {},
   "outputs": [
    {
     "name": "stdout",
     "output_type": "stream",
     "text": [
      "x es mayor que y? RTA: True\n",
      "el valor de a es True y el valor de b es False\n",
      "False\n",
      "Negación de a: False\n"
     ]
    }
   ],
   "source": [
    "# Comparaciones\n",
    "x = 5\n",
    "y = 3\n",
    "\n",
    "print('x es mayor que y? RTA: {}'.format(x > y))\n",
    "a = True\n",
    "b = False\n",
    "print(f'el valor de a es {a} y el valor de b es {b}')\n",
    "print(a and b)\n",
    "    \n",
    "# Negación\n",
    "c = not a\n",
    "print(\"Negación de a:\", c)"
   ]
  },
  {
   "cell_type": "markdown",
   "metadata": {},
   "source": [
    "### Texto (cadenas)\n",
    "\n",
    "Las variables que almacenan texto se denominan strings (str).  Se deben de poner entre commillas sencillas o dobles, si el texto es multilinea con triple comilla.\n",
    "\n",
    "```python\n",
    "cadena = \"Hola\"\n",
    "cadena = 'Hola'\n",
    "multilinea = \"\"\" Hola\n",
    "                Mundo \"\"\"\n",
    "multilinea = ''' Hola\n",
    "                Mundo '''\n",
    "```"
   ]
  },
  {
   "cell_type": "code",
   "execution_count": 32,
   "metadata": {},
   "outputs": [
    {
     "name": "stdout",
     "output_type": "stream",
     "text": [
      "python 3.0\n"
     ]
    }
   ],
   "source": [
    "book = \"python 3.0\"\n",
    "print(book)"
   ]
  },
  {
   "cell_type": "code",
   "execution_count": 28,
   "metadata": {},
   "outputs": [
    {
     "name": "stdout",
     "output_type": "stream",
     "text": [
      "Julio bueno Rayuela?\n"
     ]
    }
   ],
   "source": [
    "nombre = \"Julio\"\n",
    "libro = \"Rayuela\"\n",
    "print(nombre + \" bueno \" + libro + \"?\")"
   ]
  },
  {
   "cell_type": "code",
   "execution_count": 30,
   "metadata": {},
   "outputs": [
    {
     "data": {
      "text/plain": [
       "'23'"
      ]
     },
     "execution_count": 30,
     "metadata": {},
     "output_type": "execute_result"
    }
   ],
   "source": [
    "a = '2'\n",
    "a + '3'"
   ]
  },
  {
   "cell_type": "markdown",
   "metadata": {},
   "source": [
    "## Operaciones\n",
    "- Suma: X + Y\n",
    "- Resta: X - Y\n",
    "- Multiplicación: X * Y\n",
    "- Exponente  (X  a la potencia Y): X ** Y\n",
    "- Division Flotante : X / Y\n",
    "- Division entera: X // Y\n",
    "- Modulo (i.e., el remanente de la  division): X % Y\n"
   ]
  },
  {
   "cell_type": "code",
   "execution_count": 43,
   "metadata": {},
   "outputs": [
    {
     "name": "stdout",
     "output_type": "stream",
     "text": [
      "x =  9\n",
      "y =  4\n",
      "x + y =  13\n",
      "x - y =  5\n",
      "x * y =  36\n",
      "x ** y =  6561\n",
      "x / y =  2.25\n",
      "x // y =  2\n",
      "x % y =  1\n"
     ]
    }
   ],
   "source": [
    "x = 9\n",
    "y = 4\n",
    "print(\"x = \",x)\n",
    "print(\"y = \", y)\n",
    "print(\"x + y = \", x + y)\n",
    "print(\"x - y = \", x - y)\n",
    "print(\"x * y = \", x * y)\n",
    "print(\"x ** y = \", x ** y)\n",
    "print(\"x / y = \", x / y)\n",
    "print(\"x // y = \", x // y)\n",
    "print(\"x % y = \", x % y)"
   ]
  },
  {
   "cell_type": "markdown",
   "metadata": {},
   "source": [
    "## Operadores lógicos y comparadores\n",
    "- igual ==\n",
    "- distinto !=\n",
    "- menor(mayor) que <(>)\n",
    "- menor(mayor) igual que <=(>=)\n",
    "- negación not\n",
    "- conjunción and\n",
    "- Disyunción or "
   ]
  },
  {
   "cell_type": "code",
   "execution_count": 48,
   "metadata": {},
   "outputs": [
    {
     "name": "stdout",
     "output_type": "stream",
     "text": [
      "True\n",
      "True\n",
      "True\n",
      "False\n",
      "True\n",
      "True\n",
      "False\n"
     ]
    }
   ],
   "source": [
    "print(True == True != False)\n",
    "\n",
    "print(1 < 2 < 3 < 4 < 5)\n",
    "\n",
    "print((1 < 2 < 3) and (4 < 5))\n",
    "\n",
    "print(1 < 2 < 4 < 3 <= 3 < 5)\n",
    "\n",
    "print((1 < 2 < 4) and (3 < 5))\n",
    "print((1 < 2 < 4) or (3 > 5))\n",
    "print(not(1 < 2 < 4) )\n"
   ]
  },
  {
   "cell_type": "markdown",
   "metadata": {},
   "source": [
    "### Funciones predefinidas\n",
    "Son funciones que ya vienen incorporadas en el lenguaje para utilizar directamente sin tener que escribir su código.\n",
    "https://docs.python.org/es/3/library/functions.html\n",
    "\n",
    "- Matemáticas:\n",
    "\n",
    "    - abs(x): Devuelve el valor absoluto de x.\n",
    "    - round(x): Redondea x al número entero más cercano.\n",
    "    - pow(x, y): Calcula x elevado a la potencia y.\n",
    "    - min(iterable), max(iterable): Devuelve el valor mínimo o máximo de un iterable.\n",
    "\n",
    "- Conversión de tipos:\n",
    "\n",
    "    - int(x): Convierte x a un entero.\n",
    "    - float(x): Convierte x a un número de punto flotante.\n",
    "    - str(x): Convierte x a una cadena.\n",
    "\n",
    "- Listas:\n",
    "\n",
    "    - len(list): Devuelve la longitud de una lista.\n",
    "    - sorted(list): Devuelve una nueva lista ordenada.\n",
    "    - sum(list): Calcula la suma de todos los elementos de una lista.\n",
    "\n",
    "- Cadenas:\n",
    "\n",
    "    - len(str): Devuelve la longitud de una cadena.\n",
    "    - upper(), lower(): Convierte una cadena a mayúsculas o minúsculas.\n",
    "    - isdigit(), isalpha(): verificar si es digito o del alfabeto\n",
    "    - find(sub): Encuentra el índice de la primera aparición de una subcadena.\n",
    "\n",
    "- Entrada/Salida:\n",
    "\n",
    "    - print(): Imprime valores en la consola.\n",
    "    - input(): Lee una entrada del usuario.\n"
   ]
  },
  {
   "cell_type": "code",
   "execution_count": 91,
   "metadata": {},
   "outputs": [
    {
     "name": "stdout",
     "output_type": "stream",
     "text": [
      "5\n",
      "3.14\n",
      "[1, 2, 3, 4, 5, 6]\n",
      "longitud de la frase:  10\n",
      "Hola mundo\n",
      "8\n"
     ]
    }
   ],
   "source": [
    "# Calcular el valor absoluto de -5\n",
    "resultado = abs(-5)\n",
    "print(resultado) # 5\n",
    "\n",
    "# Convertir la cadena \"3.14\" a un número flotante\n",
    "numero = float(\"3.14\")\n",
    "print(numero)  \n",
    "\n",
    "# Crear una lista y ordenarla\n",
    "mi_lista = [3, 1, 4, 2, 5, 6]\n",
    "lista_ordenada = sorted(mi_lista) #[1, 2, 3, 4, 5, 6]\n",
    "print(lista_ordenada) \n",
    "\n",
    "# longitud de frase\n",
    "palabras_lg = \"Hola mundo\"\n",
    "print('longitud de la frase: ',len(palabras_lg)) \n",
    "\n",
    "\n",
    "# unir palabras\n",
    "palabras = [\"Hola\", \"mundo\"]\n",
    "cadena = \" \".join(palabras)\n",
    "print(cadena)  # Hola mundo\n",
    "\n",
    "# potencia\n",
    "resultado = pow(2, 3)\n",
    "print(resultado)"
   ]
  },
  {
   "cell_type": "code",
   "execution_count": 139,
   "metadata": {},
   "outputs": [],
   "source": [
    "x = input('valor para x')"
   ]
  },
  {
   "cell_type": "code",
   "execution_count": 140,
   "metadata": {},
   "outputs": [
    {
     "name": "stdout",
     "output_type": "stream",
     "text": [
      "el valor de x es: 1\n"
     ]
    }
   ],
   "source": [
    "print('el valor de x es:', x)"
   ]
  },
  {
   "cell_type": "markdown",
   "metadata": {},
   "source": [
    "# ¿Qué es un módulo en Python?\n",
    "\n",
    "Un módulo contiene un conjunto de funciones, clases y variables que puedes utilizar en el código para realizar tareas específicas. Por ejemplo, el módulo math contiene funciones matemáticas como sqrt() para calcular raíces cuadradas"
   ]
  },
  {
   "cell_type": "code",
   "execution_count": 53,
   "metadata": {},
   "outputs": [
    {
     "name": "stdout",
     "output_type": "stream",
     "text": [
      "4.0\n"
     ]
    }
   ],
   "source": [
    "import math\n",
    "\n",
    "# Usando una función del módulo:\n",
    "resultado = math.sqrt(16)\n",
    "print(resultado)  # Imprime 4.0"
   ]
  },
  {
   "cell_type": "code",
   "execution_count": 60,
   "metadata": {},
   "outputs": [
    {
     "name": "stdout",
     "output_type": "stream",
     "text": [
      "0.7071067811865476\n"
     ]
    }
   ],
   "source": [
    "# Usando las constantes pi y la función sin()\n",
    "angulo = 45\n",
    "resultado = math.sin(angulo * math.pi / 180)\n",
    "print(resultado)  # Seno de 45 grados"
   ]
  },
  {
   "cell_type": "code",
   "execution_count": 61,
   "metadata": {},
   "outputs": [
    {
     "name": "stdout",
     "output_type": "stream",
     "text": [
      "0.7071067811865476\n"
     ]
    }
   ],
   "source": [
    "from math import pi, sin\n",
    "# Usando las constantes pi y la función sin()\n",
    "angulo = 45\n",
    "resultado = sin(angulo * pi / 180)\n",
    "print(resultado)  # Seno de 45 grados"
   ]
  },
  {
   "cell_type": "code",
   "execution_count": 62,
   "metadata": {},
   "outputs": [
    {
     "name": "stdout",
     "output_type": "stream",
     "text": [
      "12.566370614359172\n"
     ]
    }
   ],
   "source": [
    "from math import pi as PI\n",
    "# Usando el nombre renombrado:\n",
    "radio = 2\n",
    "area = PI * radio**2\n",
    "print(area)"
   ]
  },
  {
   "cell_type": "code",
   "execution_count": 65,
   "metadata": {},
   "outputs": [
    {
     "name": "stdout",
     "output_type": "stream",
     "text": [
      "Número aleatorio: 5\n",
      "Número decimal aleatorio: 0.44823158187000034\n",
      "Número distribución gaussiana: 2.0883133349245186\n"
     ]
    }
   ],
   "source": [
    "import random\n",
    "\n",
    "# Generar un número entero aleatorio entre 1 y 10\n",
    "numero_aleatorio = random.randint(1, 10)\n",
    "print(\"Número aleatorio:\", numero_aleatorio)\n",
    "\n",
    "# Generar un número decimal aleatorio entre 0 y 1\n",
    "numero_decimal = random.random()\n",
    "print(\"Número decimal aleatorio:\", numero_decimal)\n",
    "# Generar un número de una distribución gaussiana media 2.1 y std:0.3 \n",
    "numero_decimal = random.gauss(2.1,0.3)\n",
    "print(\"Número distribución gaussiana:\", numero_decimal)"
   ]
  },
  {
   "cell_type": "markdown",
   "metadata": {},
   "source": [
    "## Métodos\n",
    "Los datos de ciertos tipos permiten invocar unas funciones especiales: los denominados\n",
    "**métodos**. Por ejemplo, las cadenas  permiten invocar métodos sobre ellas"
   ]
  },
  {
   "cell_type": "code",
   "execution_count": 66,
   "metadata": {},
   "outputs": [
    {
     "name": "stdout",
     "output_type": "stream",
     "text": [
      "HOLA, MUNDO!\n",
      "hola, mundo!\n",
      "['Python', 'es', 'genial']\n"
     ]
    }
   ],
   "source": [
    "# mayúsculas en cadenas\n",
    "cadena = \"Hola, Mundo!\"\n",
    "print(cadena.upper())  # HOLA, MUNDO!\n",
    "print(cadena.lower())  # hola, mundo!\n",
    "\n",
    "# dividir texto\n",
    "texto = \"Python es genial\"\n",
    "palabras = texto.split()\n",
    "print(palabras)  # ['Python', 'es', 'genial']"
   ]
  },
  {
   "cell_type": "code",
   "execution_count": 68,
   "metadata": {},
   "outputs": [
    {
     "name": "stdout",
     "output_type": "stream",
     "text": [
      "Fecha y hora actual: 2024-09-04 16:26:47.571388\n",
      "Fecha formateada: 04/09/2024\n"
     ]
    }
   ],
   "source": [
    "import datetime\n",
    "\n",
    "# Obtener la fecha y hora actual\n",
    "ahora = datetime.datetime.now()\n",
    "print(\"Fecha y hora actual:\", ahora)\n",
    "\n",
    "# Formatear la fecha\n",
    "fecha_formateada = ahora.strftime(\"%d/%m/%Y\")\n",
    "print(\"Fecha formateada:\", fecha_formateada)"
   ]
  },
  {
   "cell_type": "code",
   "execution_count": 69,
   "metadata": {},
   "outputs": [
    {
     "data": {
      "text/plain": [
       "3.0"
      ]
     },
     "execution_count": 69,
     "metadata": {},
     "output_type": "execute_result"
    }
   ],
   "source": [
    "a = 1 + 3j       # dato\n",
    "a.imag           # atributo dato"
   ]
  },
  {
   "cell_type": "code",
   "execution_count": 71,
   "metadata": {},
   "outputs": [
    {
     "data": {
      "text/plain": [
       "(1-3j)"
      ]
     },
     "execution_count": 71,
     "metadata": {},
     "output_type": "execute_result"
    }
   ],
   "source": [
    "a.conjugate()    #  método"
   ]
  },
  {
   "cell_type": "markdown",
   "metadata": {},
   "source": [
    "## Secuencia de escape\n",
    "Son caracteres especiales que no tienen una representación trivial"
   ]
  },
  {
   "cell_type": "code",
   "execution_count": 83,
   "metadata": {},
   "outputs": [
    {
     "name": "stdout",
     "output_type": "stream",
     "text": [
      "Hola mundo\n",
      "Hola \n",
      " mundo\n",
      "Hola \t mundo\n",
      "Hola \\t mundo\n"
     ]
    }
   ],
   "source": [
    "cadena= 'Hola mundo'\n",
    "print(cadena)\n",
    "cadena_nl= 'Hola \\n mundo'\n",
    "print(cadena_nl)\n",
    "cadena_nt= 'Hola \\t mundo'\n",
    "print(cadena_nt)\n",
    "cadena_raw= r'Hola \\t mundo'\n",
    "print(cadena_raw)"
   ]
  },
  {
   "cell_type": "code",
   "execution_count": 84,
   "metadata": {},
   "outputs": [
    {
     "ename": "SyntaxError",
     "evalue": "invalid syntax (2607540147.py, line 1)",
     "output_type": "error",
     "traceback": [
      "\u001b[1;36m  Cell \u001b[1;32mIn[84], line 1\u001b[1;36m\u001b[0m\n\u001b[1;33m    cadena_nt= 'Hola 'a'  mundo'\u001b[0m\n\u001b[1;37m                      ^\u001b[0m\n\u001b[1;31mSyntaxError\u001b[0m\u001b[1;31m:\u001b[0m invalid syntax\n"
     ]
    }
   ],
   "source": [
    "cadena_nt= 'Hola 'a'  mundo'\n",
    "print(cadena_nt)"
   ]
  },
  {
   "cell_type": "code",
   "execution_count": 85,
   "metadata": {},
   "outputs": [
    {
     "name": "stdout",
     "output_type": "stream",
     "text": [
      "Hola 'a'  mundo\n"
     ]
    }
   ],
   "source": [
    "cadena_nt= 'Hola \\'a\\'  mundo'\n",
    "print(cadena_nt)"
   ]
  },
  {
   "cell_type": "markdown",
   "metadata": {},
   "source": [
    "### Indexación:\n",
    "Permite acceder a cada uno de los caracteres de una cadena utilizando un operador de indexación. El índice del elemento al que queremos acceder debe encerrarse entre corchetes."
   ]
  },
  {
   "cell_type": "markdown",
   "metadata": {},
   "source": [
    "<img src= \"data:image/png;base64,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\" width=300>"
   ]
  },
  {
   "cell_type": "code",
   "execution_count": 100,
   "metadata": {},
   "outputs": [
    {
     "name": "stdout",
     "output_type": "stream",
     "text": [
      "longitud de la cadena:  12\n"
     ]
    }
   ],
   "source": [
    "cadena = 'Monty Python'\n",
    "print('longitud de la cadena: ', len(cadena))"
   ]
  },
  {
   "cell_type": "code",
   "execution_count": 98,
   "metadata": {},
   "outputs": [
    {
     "name": "stdout",
     "output_type": "stream",
     "text": [
      "índice 0:  M\n",
      "índice 6:  P\n",
      "índice -2:  o\n",
      "índice -12:  M\n"
     ]
    }
   ],
   "source": [
    "print('índice 0: ', cadena[0])\n",
    "print('índice 6: ', cadena[6])\n",
    "print('índice -2: ', cadena[-2])\n",
    "print('índice -12: ', cadena[-12])"
   ]
  },
  {
   "cell_type": "code",
   "execution_count": 99,
   "metadata": {},
   "outputs": [
    {
     "ename": "IndexError",
     "evalue": "string index out of range",
     "output_type": "error",
     "traceback": [
      "\u001b[1;31m---------------------------------------------------------------------------\u001b[0m",
      "\u001b[1;31mIndexError\u001b[0m                                Traceback (most recent call last)",
      "Cell \u001b[1;32mIn[99], line 1\u001b[0m\n\u001b[1;32m----> 1\u001b[0m \u001b[38;5;28mprint\u001b[39m(\u001b[38;5;124m'\u001b[39m\u001b[38;5;124míndice -22: \u001b[39m\u001b[38;5;124m'\u001b[39m, \u001b[43mcadena\u001b[49m\u001b[43m[\u001b[49m\u001b[38;5;241;43m-\u001b[39;49m\u001b[38;5;241;43m22\u001b[39;49m\u001b[43m]\u001b[49m)\n",
      "\u001b[1;31mIndexError\u001b[0m: string index out of range"
     ]
    }
   ],
   "source": [
    "print('índice -22: ', cadena[-22])"
   ]
  },
  {
   "cell_type": "code",
   "execution_count": 110,
   "metadata": {},
   "outputs": [
    {
     "name": "stdout",
     "output_type": "stream",
     "text": [
      "Extraer una subcadena desde el índice 2  hasta el 5: nty\n",
      "Extraer desde el principio hasta el índice 5:  Monty\n",
      "Extraer desde 7 hasta el final:  ython\n",
      "Extraer desde -3 hasta el final:  hon\n",
      "Extraer desde -5 hasta -1:  ytho\n"
     ]
    }
   ],
   "source": [
    "subcadena = cadena[2:5]\n",
    "print('Extraer una subcadena desde el índice 2  hasta el 5:', subcadena)  \n",
    "\n",
    "\n",
    "subcadena_1 = cadena[:5]\n",
    "print('Extraer desde el principio hasta el índice 5: ',subcadena_1) \n",
    "\n",
    "subcadena_2 = cadena[7:]\n",
    "print('Extraer desde 7 hasta el final: ',subcadena_2) \n",
    "\n",
    "subcadena_3 = cadena[-3:]\n",
    "print('Extraer desde -3 hasta el final: ',subcadena_3) \n",
    "\n",
    "subcadena_4 = cadena[-5:-1]\n",
    "print('Extraer desde -5 hasta -1: ',subcadena_4) "
   ]
  },
  {
   "cell_type": "code",
   "execution_count": 112,
   "metadata": {},
   "outputs": [
    {
     "name": "stdout",
     "output_type": "stream",
     "text": [
      "Extraer cada segundo carácter:  MnyPto\n"
     ]
    }
   ],
   "source": [
    "#collection[start:stop:step]\n",
    "subcadena_5 = cadena[::2]\n",
    "print('Extraer cada segundo carácter: ',subcadena_5)  "
   ]
  },
  {
   "cell_type": "code",
   "execution_count": 115,
   "metadata": {},
   "outputs": [
    {
     "name": "stdout",
     "output_type": "stream",
     "text": [
      "# modificar M por J:  Jonty Python\n"
     ]
    }
   ],
   "source": [
    "nueva_cadena = \"J\" + cadena[1:]\n",
    "print('# modificar M por J: ', nueva_cadena) "
   ]
  },
  {
   "cell_type": "markdown",
   "metadata": {},
   "source": [
    "Hasta ahora los programas se forman como una serie de líneas que se ejecutan una tras otra,\n",
    "siguiendo el mismo orden con el que aparecen. Esto significa   que el flujo de ejecución del programa es **estrictamente secuencial**."
   ]
  },
  {
   "cell_type": "markdown",
   "metadata": {},
   "source": [
    "Solución de la ecuación: ax+b=0\n",
    "\n",
    "- x=-b/a"
   ]
  },
  {
   "cell_type": "code",
   "execution_count": 120,
   "metadata": {},
   "outputs": [
    {
     "name": "stdout",
     "output_type": "stream",
     "text": [
      "valor de a: 9.0 y b: 10.0\n",
      "La solución es:  -1.1111111111111112\n"
     ]
    }
   ],
   "source": [
    "a= float(input('valor de a'))\n",
    "b= float(input('valor de b'))\n",
    "print(f'valor de a: {a} y b: {b}')\n",
    "x = - b/a\n",
    "print('La solución es: ', x)"
   ]
  },
  {
   "cell_type": "markdown",
   "metadata": {},
   "source": [
    "Sin embargo, es posible alterar el flujo de ejecución de los programas para hacer que:\n",
    "- **sentencias condicionales**: tomen decisiones a partir de los datos y/o resultados intermedios y,\\\n",
    " en función de éstas, ejecuten ciertas sentencias y otras no.\n",
    "- **sentencias iterativas**: tomen decisiones a partir de los datos y/o resultados intermedios y,\\\n",
    " en función de éstas, ejecuten ciertas sentencias más de una vez."
   ]
  },
  {
   "cell_type": "markdown",
   "metadata": {},
   "source": [
    "### La sentencia condicional IF\n",
    "\n",
    "Es una sentencia condicional de control de flujo para ejecutar unas instrucciones en función de alguna condición.\n",
    "\n",
    "Su forma más básica es:\n",
    "\n",
    "```python\n",
    "    if <condicion>:  sentencia\n",
    "```\n",
    "\n",
    "O bien:\n",
    "\n",
    "```python\n",
    "    if <condicion>:\n",
    "        sentencia\n",
    "        ...\n",
    "```\n",
    "\n",
    "Más generalmente, para especificar alternativas:\n",
    "\n",
    "```python\n",
    "    if <condicion>:\n",
    "        do something\n",
    "        \n",
    "    elif <otra condicion>:\n",
    "        do something else  \n",
    "    ...\n",
    "    \n",
    "    else:\n",
    "        do this if nothing above matched\n",
    "```\n",
    "\n",
    "Lo anterior es equivalente a:\n",
    "```python\n",
    "    if <condicion>:\n",
    "        do something\n",
    "        \n",
    "    else:\n",
    "        \n",
    "        if <otra condicion>:\n",
    "            do something else  \n",
    "        ...\n",
    "    \n",
    "        else:\n",
    "            do this if nothing above matched\n",
    "```"
   ]
  },
  {
   "cell_type": "code",
   "execution_count": 121,
   "metadata": {},
   "outputs": [
    {
     "name": "stdout",
     "output_type": "stream",
     "text": [
      "No! 2 no es 3\n"
     ]
    }
   ],
   "source": [
    "if 2 == 3:\n",
    "    print('2 es 3')\n",
    "else:\n",
    "    print('No! 2 no es 3')"
   ]
  },
  {
   "cell_type": "code",
   "execution_count": 122,
   "metadata": {},
   "outputs": [
    {
     "name": "stdout",
     "output_type": "stream",
     "text": [
      "x es mayor que 5\n"
     ]
    }
   ],
   "source": [
    "x = 10\n",
    "if x > 5:\n",
    "    print(\"x es mayor que 5\")"
   ]
  },
  {
   "cell_type": "code",
   "execution_count": 123,
   "metadata": {},
   "outputs": [
    {
     "name": "stdout",
     "output_type": "stream",
     "text": [
      "x es mayor que 5 y y es menor que 30\n"
     ]
    }
   ],
   "source": [
    "x = 10\n",
    "y = 20\n",
    "\n",
    "if x > 5 and y < 30:\n",
    "    print(\"x es mayor que 5 y y es menor que 30\")"
   ]
  },
  {
   "cell_type": "code",
   "execution_count": 124,
   "metadata": {},
   "outputs": [
    {
     "name": "stdout",
     "output_type": "stream",
     "text": [
      "x es menor o igual a 5\n"
     ]
    }
   ],
   "source": [
    "x = 5\n",
    "\n",
    "if x > 10:\n",
    "    print(\"x es mayor que 10\")\n",
    "elif x > 5:\n",
    "    print(\"x es mayor que 5\")\n",
    "else:\n",
    "    print(\"x es menor o igual a 5\")"
   ]
  },
  {
   "cell_type": "code",
   "execution_count": 130,
   "metadata": {},
   "outputs": [
    {
     "name": "stdout",
     "output_type": "stream",
     "text": [
      "x es mayor que 5 y y es mayor que 30 y menor que 40\n"
     ]
    }
   ],
   "source": [
    "x = 10\n",
    "y = 32\n",
    "\n",
    "if x > 5:\n",
    "    if y < 30:\n",
    "        print(\"x es mayor que 5 y y es menor que 30\")\n",
    "    elif  40> y > 30:\n",
    "        print(\"x es mayor que 5 y y es mayor que 30 y menor que 40\")\n",
    "    else:\n",
    "        print(\"x es mayor que 40\")\n",
    "else:\n",
    "    print(\"x no es mayor que 5\")"
   ]
  },
  {
   "cell_type": "code",
   "execution_count": 126,
   "metadata": {},
   "outputs": [
    {
     "name": "stdout",
     "output_type": "stream",
     "text": [
      "Aprobado\n"
     ]
    }
   ],
   "source": [
    "nota = float(input(\"Ingrese la nota del examen (0-10): \"))\n",
    "\n",
    "if nota >= 9:\n",
    "    print(\"Excelente!\")\n",
    "elif nota >= 7:\n",
    "    print(\"Muy bien!\")\n",
    "elif nota >= 5:\n",
    "    print(\"Aprobado\")\n",
    "else:\n",
    "    print(\"Suspendido\")\n",
    "    "
   ]
  },
  {
   "cell_type": "code",
   "execution_count": 131,
   "metadata": {},
   "outputs": [
    {
     "name": "stdout",
     "output_type": "stream",
     "text": [
      "Es un triángulo isósceles.\n"
     ]
    }
   ],
   "source": [
    "lado1 = float(input(\"Ingrese la longitud del lado 1: \"))\n",
    "lado2 = float(input(\"Ingrese la longitud del lado 2: \"))\n",
    "lado3 = float(input(\"Ingrese la longitud del lado 3: \"))\n",
    "\n",
    "if lado1 <= 0 or lado2 <= 0 or lado3 <= 0:\n",
    "    print(\"Los lados de un triángulo deben ser positivos.\")\n",
    "elif lado1 + lado2 <= lado3 or lado1 + lado3 <= lado2 or lado2 + lado3 <= lado1:\n",
    "    print(\"No se puede formar un triángulo con esas longitudes.\")\n",
    "elif lado1 == lado2 == lado3:\n",
    "    print(\"Es un triángulo equilátero.\")\n",
    "elif lado1 == lado2 or lado1 == lado3 or lado2 == lado3:\n",
    "    print(\"Es un triángulo isósceles.\")\n",
    "else:\n",
    "    print(\"Es un triángulo escaleno.\")"
   ]
  },
  {
   "cell_type": "code",
   "execution_count": 138,
   "metadata": {},
   "outputs": [
    {
     "name": "stdout",
     "output_type": "stream",
     "text": [
      "Escoge una opción: \n",
      "a)Calcular el diámetro.\n",
      "b)Calcular el perímetro.\n",
      "c)Calcular el área.\n",
      "El diámetro es: 20.0\n"
     ]
    }
   ],
   "source": [
    "from math import pi\n",
    "\n",
    "radio = float(input('Calcular␣el␣radio␣de␣un␣círculo: '))\n",
    "\n",
    "print('''Escoge una opción: \n",
    "a)Calcular el diámetro.\n",
    "b)Calcular el perímetro.\n",
    "c)Calcular el área.''')\n",
    "\n",
    "opcion = input('Escoger la opción a calcular:')\n",
    "\n",
    "if opcion == 'a':\n",
    "    diametro = 2 * radio\n",
    "    print(f'El diámetro es: {diametro}')\n",
    "elif opcion == 'b':\n",
    "    perimetro = 2 * pi * radio\n",
    "    print(f'El perímetro es: {perimetro}')\n",
    "elif opcion == 'c':\n",
    "    area = pi * radio ** 2\n",
    "    print(f'El área es: {area}')\n",
    "else:\n",
    "    raise Exception(\"debe escoger entre la opción a, b y c\") "
   ]
  },
  {
   "cell_type": "markdown",
   "metadata": {},
   "source": [
    "### La sentencia iterativa while\n",
    "La sentencia while es una estructura de control que permite ejecutar un bloque de código repetidamente mientras se cumpla una determinada condición. Es decir, el bucle continuará iterando hasta que la condición se vuelva False.\n",
    "\n",
    "    while condición:\n",
    "        # Bloque de código a ejecutar mientras la condición sea True"
   ]
  },
  {
   "cell_type": "code",
   "execution_count": 141,
   "metadata": {},
   "outputs": [
    {
     "name": "stdout",
     "output_type": "stream",
     "text": [
      "0\n",
      "1\n",
      "2\n",
      "3\n",
      "4\n"
     ]
    }
   ],
   "source": [
    "contador = 0\n",
    "while contador < 5:\n",
    "    print(contador)\n",
    "    contador += 1"
   ]
  },
  {
   "cell_type": "code",
   "execution_count": 145,
   "metadata": {},
   "outputs": [
    {
     "name": "stdout",
     "output_type": "stream",
     "text": [
      "c\n",
      "o\n",
      "m\n",
      "p\n",
      "l\n",
      "e\n",
      "j\n",
      "o\n",
      "número de carácteres de la palabra complejo:  8\n"
     ]
    }
   ],
   "source": [
    "palabra = \"complejo\"\n",
    "i = 0\n",
    "while i < len(palabra):\n",
    "    print(palabra[i])\n",
    "    i += 1\n",
    "print(f'número de carácteres de la palabra {palabra}: ', i)"
   ]
  },
  {
   "cell_type": "code",
   "execution_count": 149,
   "metadata": {},
   "outputs": [
    {
     "name": "stdout",
     "output_type": "stream",
     "text": [
      "El factorial es 6\n"
     ]
    }
   ],
   "source": [
    "numero= int(input('Calcular factorial del número?'))\n",
    "resultado = 1\n",
    "while numero > 0:\n",
    "    resultado *= numero\n",
    "    numero -= 1\n",
    "\n",
    "print(\"El factorial es\", resultado)"
   ]
  },
  {
   "cell_type": "code",
   "execution_count": 150,
   "metadata": {},
   "outputs": [
    {
     "name": "stdout",
     "output_type": "stream",
     "text": [
      "El número es menor\n",
      "El número es menor\n",
      "El número es menor\n",
      "¡Adivinaste! El número secreto era 2\n"
     ]
    }
   ],
   "source": [
    "import random\n",
    "\n",
    "numero_secreto = random.randint(1, 10)\n",
    "intentos = 0\n",
    "\n",
    "while True:\n",
    "    intento = int(input(\"Adivina el número (1-10): \"))\n",
    "    intentos += 1\n",
    "\n",
    "    if intento == numero_secreto:\n",
    "        print(\"¡Adivinaste! El número secreto era\", numero_secreto)\n",
    "        break\n",
    "    elif intento < numero_secreto:\n",
    "        print(\"El número es mayor\")\n",
    "    else:\n",
    "        print(\"El número es menor\")\n",
    "\n",
    "    if intentos >= 5:\n",
    "        print(\"Se acabaron los intentos. El número secreto era\", numero_secreto)\n",
    "        break"
   ]
  },
  {
   "cell_type": "markdown",
   "metadata": {},
   "source": [
    "## Tipos de Datos Objeto"
   ]
  },
  {
   "cell_type": "markdown",
   "metadata": {},
   "source": [
    "### Listas\n",
    "\n",
    "Son conjuntos ordenados de elementos (números, texto, listas, etc). Se delimitan por corchetes (`[]`) y los elementos se separan por comas. Las listas son dinamicas, es decir que son mutables.\n",
    "\n",
    "```python\n",
    "listaNumeros = [1,2,3]\n",
    "listaCadenas = ['a','b','c']\n",
    "listaListas = [[1,2],[3,4],[5,6]]\n",
    "listaMixtas = [1,'Grupo',[1,2,3,4]]\n",
    "listaVacia = []\n",
    "```\n",
    "\n",
    "### Tuplas\n",
    "\n",
    "Es un conjunto ordenado e inmutable de elementos del mismo o diferente tipo. Las tuplas se representan escribiendo los elementos entre paréntesis (`()`) y separados por comas. Las tuplas son estaticas, son inmutables, una vez creada no puede ser modificada.\n",
    "\n",
    "```python\n",
    "tuplaNumeros = (1,2,3)\n",
    "tuplaCadenas = ('a','b','c')\n",
    "tuplaListas = ([1,2],[3,4],[5,6])\n",
    "tuplaMixtas = (1,'Grupo',[1,2,3,4])\n",
    "```\n",
    "\n",
    "### Diccionarios\n",
    "\n",
    "Permite almacenar cualquier tipo de valor como enteros, cadenas, listas, etc.  Los diccionarios permiten además identificar cada elemento por una clave (key)\n",
    "\n",
    "```python\n",
    "dictNumeros = {'k1':1,'k2':2}\n",
    "dictCadenas = {'k1':'a','k2':'b','k3':'c'}\n",
    "dictListas = {'k1':[1,2],'k2':[3,4],'k3':[5,6]}\n",
    "dictMixto = {'k1':1,'k2':'Grupo','k3':[1,2,3,4]}\n",
    "```\n",
    "\n",
    "#### Aplicaciones:\n",
    "- Listas: Para almacenar secuencias de elementos que pueden cambiar.\n",
    "- Tuplas: Para almacenar datos que no deben cambiar, como constantes o como claves en un diccionario.\n",
    "- Diccionarios: Para almacenar pares clave-valor, cuando se necesita acceder a los datos por una clave específica."
   ]
  },
  {
   "cell_type": "markdown",
   "metadata": {},
   "source": [
    "### Listas"
   ]
  },
  {
   "cell_type": "code",
   "execution_count": 3,
   "metadata": {},
   "outputs": [
    {
     "name": "stdout",
     "output_type": "stream",
     "text": [
      "1\n",
      "True\n"
     ]
    }
   ],
   "source": [
    "# Creando una lista\n",
    "mi_lista = [1, 2, 3, \"hola\", True]\n",
    "# Accediendo a elementos\n",
    "print(mi_lista[0])  # Imprime 1\n",
    "print(mi_lista[-1])  # Imprime True"
   ]
  },
  {
   "cell_type": "code",
   "execution_count": 160,
   "metadata": {},
   "outputs": [
    {
     "name": "stdout",
     "output_type": "stream",
     "text": [
      "[1, 2, 'mundo', 'hola', True]\n"
     ]
    }
   ],
   "source": [
    "# Modificando elementos\n",
    "mi_lista[2] = \"mundo\"\n",
    "print(mi_lista)  "
   ]
  },
  {
   "cell_type": "code",
   "execution_count": 161,
   "metadata": {},
   "outputs": [
    {
     "name": "stdout",
     "output_type": "stream",
     "text": [
      "[1, 2, 'mundo', 'hola', True, 'adios']\n"
     ]
    }
   ],
   "source": [
    "# Agregando elementos\n",
    "mi_lista.append(\"adios\")\n",
    "print(mi_lista) "
   ]
  },
  {
   "cell_type": "code",
   "execution_count": 162,
   "metadata": {},
   "outputs": [
    {
     "name": "stdout",
     "output_type": "stream",
     "text": [
      "[1, 2, 'mundo', True, 'adios']\n"
     ]
    }
   ],
   "source": [
    "# Eliminando elementos\n",
    "mi_lista.remove(\"hola\")\n",
    "print(mi_lista)  "
   ]
  },
  {
   "cell_type": "code",
   "execution_count": 163,
   "metadata": {},
   "outputs": [
    {
     "name": "stdout",
     "output_type": "stream",
     "text": [
      "[1, 2, 'mundo', True]\n",
      "adios\n"
     ]
    }
   ],
   "source": [
    "# Eliminando ultimo elemento\n",
    "ultimo= mi_lista.pop()\n",
    "print(mi_lista)\n",
    "print(ultimo)  "
   ]
  },
  {
   "cell_type": "code",
   "execution_count": 164,
   "metadata": {},
   "outputs": [
    {
     "name": "stdout",
     "output_type": "stream",
     "text": [
      "[1, 'mundo', True]\n",
      "2\n"
     ]
    }
   ],
   "source": [
    "# Eliminando ultimo elemento\n",
    "pop_el= mi_lista.pop(1)\n",
    "print(mi_lista)\n",
    "print(pop_el)  "
   ]
  },
  {
   "cell_type": "code",
   "execution_count": null,
   "metadata": {},
   "outputs": [],
   "source": [
    "mi_lista"
   ]
  },
  {
   "cell_type": "code",
   "execution_count": 8,
   "metadata": {},
   "outputs": [
    {
     "data": {
      "text/plain": [
       "[1, 4, 3, 4, 8, 9, 10]"
      ]
     },
     "execution_count": 8,
     "metadata": {},
     "output_type": "execute_result"
    }
   ],
   "source": [
    "l = [1,4,3,4,8,9]\n",
    "l.append(10)\n",
    "l"
   ]
  },
  {
   "cell_type": "code",
   "execution_count": 10,
   "metadata": {},
   "outputs": [
    {
     "data": {
      "text/plain": [
       "[1, 4, 3, 4, 8, 9, 10, 3, 4, 6]"
      ]
     },
     "execution_count": 10,
     "metadata": {},
     "output_type": "execute_result"
    }
   ],
   "source": [
    "l.extend([3,4,6])\n",
    "l"
   ]
  },
  {
   "cell_type": "code",
   "execution_count": 11,
   "metadata": {},
   "outputs": [
    {
     "data": {
      "text/plain": [
       "[1, 5, 4, 3, 4, 8, 9, 10, 3, 4, 6]"
      ]
     },
     "execution_count": 11,
     "metadata": {},
     "output_type": "execute_result"
    }
   ],
   "source": [
    "l.insert(1,5)\n",
    "l"
   ]
  },
  {
   "cell_type": "code",
   "execution_count": 12,
   "metadata": {},
   "outputs": [
    {
     "data": {
      "text/plain": [
       "[6, 4, 3, 10, 9, 8, 4, 3, 4, 5, 1]"
      ]
     },
     "execution_count": 12,
     "metadata": {},
     "output_type": "execute_result"
    }
   ],
   "source": [
    "l.reverse()\n",
    "l"
   ]
  },
  {
   "cell_type": "code",
   "execution_count": 15,
   "metadata": {},
   "outputs": [
    {
     "data": {
      "text/plain": [
       "[1, 3, 3, 4, 4, 4, 5, 6, 8, 9, 10]"
      ]
     },
     "execution_count": 15,
     "metadata": {},
     "output_type": "execute_result"
    }
   ],
   "source": [
    "l.sort()\n",
    "l"
   ]
  },
  {
   "cell_type": "markdown",
   "metadata": {},
   "source": [
    "### Tuplas"
   ]
  },
  {
   "cell_type": "code",
   "execution_count": 165,
   "metadata": {},
   "outputs": [
    {
     "name": "stdout",
     "output_type": "stream",
     "text": [
      "(10, 20, 30)\n"
     ]
    }
   ],
   "source": [
    "# Creando una tupla\n",
    "mi_tupla = (10, 20, 30)\n",
    "print(mi_tupla)"
   ]
  },
  {
   "cell_type": "code",
   "execution_count": 166,
   "metadata": {},
   "outputs": [
    {
     "name": "stdout",
     "output_type": "stream",
     "text": [
      "20\n"
     ]
    }
   ],
   "source": [
    "# Accediendo a elementos\n",
    "print(mi_tupla[1]) "
   ]
  },
  {
   "cell_type": "code",
   "execution_count": 167,
   "metadata": {},
   "outputs": [
    {
     "ename": "TypeError",
     "evalue": "'tuple' object does not support item assignment",
     "output_type": "error",
     "traceback": [
      "\u001b[1;31m---------------------------------------------------------------------------\u001b[0m",
      "\u001b[1;31mTypeError\u001b[0m                                 Traceback (most recent call last)",
      "Cell \u001b[1;32mIn[167], line 2\u001b[0m\n\u001b[0;32m      1\u001b[0m \u001b[38;5;66;03m#Intentando modificar \u001b[39;00m\n\u001b[1;32m----> 2\u001b[0m mi_tupla[\u001b[38;5;241m0\u001b[39m] \u001b[38;5;241m=\u001b[39m \u001b[38;5;241m5\u001b[39m\n",
      "\u001b[1;31mTypeError\u001b[0m: 'tuple' object does not support item assignment"
     ]
    }
   ],
   "source": [
    "#Intentando modificar \n",
    "mi_tupla[0] = 5 "
   ]
  },
  {
   "cell_type": "markdown",
   "metadata": {},
   "source": [
    "### diccionarios"
   ]
  },
  {
   "cell_type": "code",
   "execution_count": 169,
   "metadata": {},
   "outputs": [
    {
     "name": "stdout",
     "output_type": "stream",
     "text": [
      "{'nombre': 'Ana', 'edad': 25}\n"
     ]
    }
   ],
   "source": [
    "#crear diccionarios\n",
    "# Forma 1: Usando llaves\n",
    "mi_diccionario = {\"nombre\": \"Ana\", \"edad\": 25}\n",
    "print(mi_diccionario)"
   ]
  },
  {
   "cell_type": "code",
   "execution_count": 171,
   "metadata": {},
   "outputs": [
    {
     "name": "stdout",
     "output_type": "stream",
     "text": [
      "Ana\n"
     ]
    }
   ],
   "source": [
    "print(mi_diccionario[\"nombre\"]) "
   ]
  },
  {
   "cell_type": "code",
   "execution_count": 174,
   "metadata": {},
   "outputs": [
    {
     "name": "stdout",
     "output_type": "stream",
     "text": [
      "{'nombre': 'Ana', 'edad': 25, 'profesion': 'Programador'}\n"
     ]
    }
   ],
   "source": [
    "#Agregando elementos\n",
    "mi_diccionario[\"profesion\"] = \"Programador\"\n",
    "print(mi_diccionario) "
   ]
  },
  {
   "cell_type": "code",
   "execution_count": 177,
   "metadata": {},
   "outputs": [
    {
     "data": {
      "text/plain": [
       "dict_keys(['nombre', 'edad', 'profesion'])"
      ]
     },
     "execution_count": 177,
     "metadata": {},
     "output_type": "execute_result"
    }
   ],
   "source": [
    "#devuelve las llaves\n",
    "mi_diccionario.keys()"
   ]
  },
  {
   "cell_type": "code",
   "execution_count": 178,
   "metadata": {},
   "outputs": [
    {
     "data": {
      "text/plain": [
       "dict_values(['Ana', 25, 'Programador'])"
      ]
     },
     "execution_count": 178,
     "metadata": {},
     "output_type": "execute_result"
    }
   ],
   "source": [
    "#devuelve los valores\n",
    "mi_diccionario.values()"
   ]
  },
  {
   "cell_type": "code",
   "execution_count": 179,
   "metadata": {},
   "outputs": [
    {
     "data": {
      "text/plain": [
       "dict_items([('nombre', 'Ana'), ('edad', 25), ('profesion', 'Programador')])"
      ]
     },
     "execution_count": 179,
     "metadata": {},
     "output_type": "execute_result"
    }
   ],
   "source": [
    "#devuelve los items\n",
    "mi_diccionario.items()"
   ]
  },
  {
   "cell_type": "code",
   "execution_count": 180,
   "metadata": {},
   "outputs": [
    {
     "data": {
      "text/plain": [
       "'Ana'"
      ]
     },
     "execution_count": 180,
     "metadata": {},
     "output_type": "execute_result"
    }
   ],
   "source": [
    "#Devuelve el valor asociado a la clave\n",
    "mi_diccionario.get('nombre')"
   ]
  },
  {
   "cell_type": "code",
   "execution_count": 170,
   "metadata": {},
   "outputs": [
    {
     "name": "stdout",
     "output_type": "stream",
     "text": [
      "{'nombre': 'Pedro', 'edad': 32}\n"
     ]
    }
   ],
   "source": [
    "#crear diccionarios\n",
    "# Forma 2: Usando el constructor dict()\n",
    "otro_diccionario = dict(nombre=\"Pedro\", edad=32)\n",
    "print(otro_diccionario)"
   ]
  },
  {
   "cell_type": "code",
   "execution_count": 173,
   "metadata": {},
   "outputs": [
    {
     "name": "stdout",
     "output_type": "stream",
     "text": [
      "32\n"
     ]
    }
   ],
   "source": [
    "print(otro_diccionario[\"edad\"]) "
   ]
  },
  {
   "cell_type": "code",
   "execution_count": 175,
   "metadata": {},
   "outputs": [],
   "source": [
    "#eliminar elementos\n",
    "del otro_diccionario[\"edad\"]"
   ]
  },
  {
   "cell_type": "code",
   "execution_count": 176,
   "metadata": {},
   "outputs": [
    {
     "name": "stdout",
     "output_type": "stream",
     "text": [
      "{'nombre': 'Pedro'}\n"
     ]
    }
   ],
   "source": [
    "print(otro_diccionario) "
   ]
  },
  {
   "cell_type": "code",
   "execution_count": 183,
   "metadata": {},
   "outputs": [
    {
     "name": "stdout",
     "output_type": "stream",
     "text": [
      "No tenemos plátanos en el inventario\n",
      "Tenemos 7 manzanas en el inventario\n"
     ]
    }
   ],
   "source": [
    "inventario = {\n",
    "    \"manzanas\": 10,\n",
    "    \"bananas\": 15,\n",
    "    \"naranjas\": 8\n",
    "}\n",
    "\n",
    "# Agregar un nuevo producto\n",
    "inventario[\"peras\"] = 5\n",
    "\n",
    "# Vender 3 manzanas\n",
    "inventario[\"manzanas\"] -= 3\n",
    "\n",
    "# Verificar si hay plátanos\n",
    "if \"plátanos\" in inventario:\n",
    "    print(\"Tenemos plátanos en el inventario\")\n",
    "else:\n",
    "    print(\"No tenemos plátanos en el inventario\")\n",
    "print(f\"Tenemos {inventario.get('manzanas')} manzanas en el inventario\")"
   ]
  },
  {
   "cell_type": "markdown",
   "metadata": {},
   "source": [
    "Diccionarios anidados"
   ]
  },
  {
   "cell_type": "code",
   "execution_count": 184,
   "metadata": {},
   "outputs": [],
   "source": [
    "personas = {\n",
    "    \"persona1\": {\n",
    "        \"nombre\": \"Juan\",\n",
    "        \"edad\": 30,\n",
    "        \"ciudad\": \"Madrid\"\n",
    "    },\n",
    "    \"persona2\": {\n",
    "        \"nombre\": \"Ana\",\n",
    "        \"edad\": 25,\n",
    "        \"ciudad\": \"Barcelona\"\n",
    "    }\n",
    "}"
   ]
  },
  {
   "cell_type": "code",
   "execution_count": 186,
   "metadata": {},
   "outputs": [
    {
     "name": "stdout",
     "output_type": "stream",
     "text": [
      "{'nombre': 'Juan', 'edad': 30, 'ciudad': 'Madrid'}\n"
     ]
    }
   ],
   "source": [
    "print(personas[\"persona1\"]) "
   ]
  },
  {
   "cell_type": "code",
   "execution_count": 185,
   "metadata": {},
   "outputs": [
    {
     "name": "stdout",
     "output_type": "stream",
     "text": [
      "Juan\n"
     ]
    }
   ],
   "source": [
    "print(personas[\"persona1\"][\"nombre\"]) "
   ]
  },
  {
   "cell_type": "markdown",
   "metadata": {},
   "source": [
    "## La sentencia  iterativa FOR\n",
    "\n",
    "La sentencia `for` recorre los elementos de un iterable y ejecuta un conjunto de instrucciones una vez por cada uno de esos elementos.\n",
    "\n",
    "- En cada iteración, el elemento correspondiente está disponible en la variable indicada.\n",
    "\n",
    "Forma general:\n",
    "\n",
    "    for <variable> in <iterable>:\n",
    "        sentencia\n",
    "        sentencia\n",
    "        ...\n"
   ]
  },
  {
   "cell_type": "code",
   "execution_count": 151,
   "metadata": {},
   "outputs": [
    {
     "name": "stdout",
     "output_type": "stream",
     "text": [
      "P\n",
      "y\n",
      "t\n",
      "h\n",
      "o\n",
      "n\n"
     ]
    }
   ],
   "source": [
    "palabra = \"Python\"\n",
    "for letra in palabra:\n",
    "    print(letra)"
   ]
  },
  {
   "cell_type": "code",
   "execution_count": 195,
   "metadata": {},
   "outputs": [
    {
     "name": "stdout",
     "output_type": "stream",
     "text": [
      "1\n",
      "2\n",
      "3\n",
      "4\n",
      "5\n"
     ]
    }
   ],
   "source": [
    "lista1 = [1, 2, 3,4,5]\n",
    "for elemento1 in lista1:\n",
    "    print(elemento1)"
   ]
  },
  {
   "cell_type": "code",
   "execution_count": 203,
   "metadata": {},
   "outputs": [
    {
     "name": "stdout",
     "output_type": "stream",
     "text": [
      "range(0, 4)\n"
     ]
    }
   ],
   "source": [
    "print(range(4))"
   ]
  },
  {
   "cell_type": "code",
   "execution_count": 209,
   "metadata": {},
   "outputs": [
    {
     "data": {
      "text/plain": [
       "[0, 1, 2, 3]"
      ]
     },
     "execution_count": 209,
     "metadata": {},
     "output_type": "execute_result"
    }
   ],
   "source": [
    "list(range(4))"
   ]
  },
  {
   "cell_type": "code",
   "execution_count": 190,
   "metadata": {},
   "outputs": [
    {
     "name": "stdout",
     "output_type": "stream",
     "text": [
      "0\n",
      "1\n",
      "2\n",
      "3\n"
     ]
    }
   ],
   "source": [
    "for numero in range(0,4):\n",
    "    print(numero)"
   ]
  },
  {
   "cell_type": "code",
   "execution_count": 210,
   "metadata": {},
   "outputs": [
    {
     "name": "stdout",
     "output_type": "stream",
     "text": [
      "hola mundo\n",
      "hola mundo\n",
      "hola mundo\n"
     ]
    }
   ],
   "source": [
    "for _ in range(3):\n",
    "  print(\"hola mundo\")"
   ]
  },
  {
   "cell_type": "code",
   "execution_count": 191,
   "metadata": {},
   "outputs": [
    {
     "name": "stdout",
     "output_type": "stream",
     "text": [
      "0\n",
      "1\n",
      "2\n",
      "3\n"
     ]
    }
   ],
   "source": [
    "for numero in range(4):\n",
    "    print(numero)"
   ]
  },
  {
   "cell_type": "code",
   "execution_count": 2,
   "metadata": {},
   "outputs": [
    {
     "name": "stdout",
     "output_type": "stream",
     "text": [
      "1 \n",
      "1 2 \n",
      "1 2 3 \n"
     ]
    }
   ],
   "source": [
    "for i in range(1,4):\n",
    "    for j in range(1, i + 1):\n",
    "        print(j,end=' ')\n",
    "    print(\"\")"
   ]
  },
  {
   "cell_type": "code",
   "execution_count": 192,
   "metadata": {},
   "outputs": [
    {
     "name": "stdout",
     "output_type": "stream",
     "text": [
      "1\n",
      "2\n",
      "3\n"
     ]
    }
   ],
   "source": [
    "for numero in range(1,4):\n",
    "    print(numero)"
   ]
  },
  {
   "cell_type": "code",
   "execution_count": 193,
   "metadata": {},
   "outputs": [
    {
     "name": "stdout",
     "output_type": "stream",
     "text": [
      "1\n",
      "3\n",
      "5\n",
      "7\n",
      "9\n"
     ]
    }
   ],
   "source": [
    "for numero in range(1,10, 2):\n",
    "    print(numero)"
   ]
  },
  {
   "cell_type": "code",
   "execution_count": 194,
   "metadata": {},
   "outputs": [
    {
     "name": "stdout",
     "output_type": "stream",
     "text": [
      "9\n",
      "7\n",
      "5\n",
      "3\n",
      "1\n"
     ]
    }
   ],
   "source": [
    "for numero in reversed(range(1,10, 2)):\n",
    "    print(numero)"
   ]
  },
  {
   "cell_type": "code",
   "execution_count": 4,
   "metadata": {},
   "outputs": [
    {
     "name": "stdout",
     "output_type": "stream",
     "text": [
      "10\n",
      "8\n",
      "6\n"
     ]
    }
   ],
   "source": [
    "for numero in range(10, 4, -2):\n",
    "    print(numero)"
   ]
  },
  {
   "cell_type": "code",
   "execution_count": 206,
   "metadata": {},
   "outputs": [
    {
     "name": "stdout",
     "output_type": "stream",
     "text": [
      "[0, 1, 2, 3, 4, 5, 6, 7, 8, 9]\n"
     ]
    }
   ],
   "source": [
    "numeros_ = [x for x in range(10)]\n",
    "print(numeros_)"
   ]
  },
  {
   "cell_type": "code",
   "execution_count": 207,
   "metadata": {},
   "outputs": [
    {
     "name": "stdout",
     "output_type": "stream",
     "text": [
      "[0, 2, 4, 6, 8]\n"
     ]
    }
   ],
   "source": [
    "numeros_pares = [x for x in range(10) if x % 2 == 0]\n",
    "print(numeros_pares)"
   ]
  },
  {
   "cell_type": "code",
   "execution_count": 187,
   "metadata": {},
   "outputs": [
    {
     "name": "stdout",
     "output_type": "stream",
     "text": [
      "Juan tiene 25 años\n",
      "María tiene 30 años\n",
      "Pedro tiene 28 años\n"
     ]
    }
   ],
   "source": [
    "datos = [(\"Juan\", 25), (\"María\", 30), (\"Pedro\", 28)]\n",
    "\n",
    "for nombre, edad in datos:\n",
    "    print(nombre, \"tiene\", edad, \"años\")"
   ]
  },
  {
   "cell_type": "code",
   "execution_count": 198,
   "metadata": {},
   "outputs": [
    {
     "name": "stdout",
     "output_type": "stream",
     "text": [
      "nombre : Maria\n",
      "edad : 25\n",
      "ciudad : Cuba\n",
      "profesion : profesora\n"
     ]
    }
   ],
   "source": [
    "persona = {\"nombre\": \"Maria\", \"edad\": 25, \"ciudad\": \"Cuba\", \"profesion\": \"profesora\"}\n",
    "\n",
    "for clave, valor in persona.items():\n",
    "    print(clave, \":\", valor)"
   ]
  },
  {
   "cell_type": "code",
   "execution_count": 7,
   "metadata": {},
   "outputs": [
    {
     "name": "stdout",
     "output_type": "stream",
     "text": [
      "1 a a\n",
      "2 b b\n"
     ]
    }
   ],
   "source": [
    "lista1 = [1, 2, 3]\n",
    "lista2 = [\"a\", \"b\"]\n",
    "\n",
    "for elemento1, elemento2, elemento3 in zip(lista1, lista2, lista2):\n",
    "    print(elemento1, elemento2, elemento3)"
   ]
  },
  {
   "cell_type": "code",
   "execution_count": 208,
   "metadata": {},
   "outputs": [
    {
     "name": "stdout",
     "output_type": "stream",
     "text": [
      "[5, 7, 9]\n"
     ]
    }
   ],
   "source": [
    "lista1 = [1,2,3]\n",
    "lista2 = [4,5,6]\n",
    "\n",
    "lista3 = []\n",
    "for i in range(len(lista1)):\n",
    "  lista3.append(lista1[i] + lista2[i])\n",
    "\n",
    "print(lista3)"
   ]
  },
  {
   "cell_type": "markdown",
   "metadata": {},
   "source": [
    "Condicionales con tuplas, listas y diccionarios"
   ]
  },
  {
   "cell_type": "code",
   "execution_count": 211,
   "metadata": {},
   "outputs": [
    {
     "name": "stdout",
     "output_type": "stream",
     "text": [
      "La fruta no está en la lista\n"
     ]
    }
   ],
   "source": [
    "frutas = [\"manzana\", \"banana\", \"pera\"]\n",
    "fruta_buscada = \"uva\"\n",
    "\n",
    "if fruta_buscada in frutas:\n",
    "    print(\"La fruta está en la lista\")\n",
    "else:\n",
    "    print(\"La fruta no está en la lista\")"
   ]
  },
  {
   "cell_type": "code",
   "execution_count": 212,
   "metadata": {},
   "outputs": [
    {
     "name": "stdout",
     "output_type": "stream",
     "text": [
      "No se ha especificado la ciudad\n"
     ]
    }
   ],
   "source": [
    "persona = {\"nombre\": \"Juan\", \"edad\": 30}\n",
    "\n",
    "if \"ciudad\" in persona:\n",
    "    print(\"La persona tiene una ciudad asignada\")\n",
    "else:\n",
    "    print(\"No se ha especificado la ciudad\")"
   ]
  },
  {
   "cell_type": "code",
   "execution_count": 216,
   "metadata": {},
   "outputs": [
    {
     "name": "stdout",
     "output_type": "stream",
     "text": [
      "Juan tiene 30 años o más\n",
      "Pedro tiene 30 años o más\n"
     ]
    }
   ],
   "source": [
    "personas = [\n",
    "    {\"nombre\": \"Juan\", \"edad\": 30},\n",
    "    {\"nombre\": \"Ana\", \"edad\": 25},\n",
    "    {\"nombre\": \"Pedro\", \"edad\": 35}\n",
    "]\n",
    "\n",
    "for persona in personas:\n",
    "    if persona[\"edad\"] >= 30:\n",
    "        print(persona[\"nombre\"], \"tiene 30 años o más\")"
   ]
  },
  {
   "cell_type": "code",
   "execution_count": 214,
   "metadata": {},
   "outputs": [
    {
     "name": "stdout",
     "output_type": "stream",
     "text": [
      "Las tuplas son diferentes\n"
     ]
    }
   ],
   "source": [
    "tupla1 = (1, 2, 3)\n",
    "tupla2 = (1, 2, 4)\n",
    "\n",
    "if tupla1 == tupla2:\n",
    "    print(\"Las tuplas son iguales\")\n",
    "else:\n",
    "    print(\"Las tuplas son diferentes\")"
   ]
  },
  {
   "cell_type": "code",
   "execution_count": 215,
   "metadata": {},
   "outputs": [
    {
     "name": "stdout",
     "output_type": "stream",
     "text": [
      "No es un día de la semana\n"
     ]
    }
   ],
   "source": [
    "dias_semana = (\"lunes\", \"martes\", \"miércoles\")\n",
    "dia_buscado = \"jueves\"\n",
    "\n",
    "if dia_buscado in dias_semana:\n",
    "    print(\"Es un día de la semana\")\n",
    "else:\n",
    "    print(\"No es un día de la semana\")"
   ]
  },
  {
   "cell_type": "markdown",
   "metadata": {},
   "source": [
    "Combinaciones de loops y condicionales"
   ]
  },
  {
   "cell_type": "code",
   "execution_count": 219,
   "metadata": {},
   "outputs": [
    {
     "name": "stdout",
     "output_type": "stream",
     "text": [
      "0\n",
      "El valor que siempre se imprime es: 0\n",
      "1\n",
      "El valor que siempre se imprime es: 1\n",
      "2\n",
      "El valor que siempre se imprime es: 2\n",
      "3\n",
      "El valor que siempre se imprime es: 3\n",
      "4\n",
      "El valor que siempre se imprime es: 4\n"
     ]
    }
   ],
   "source": [
    "for i in range(15):\n",
    "    if i in [ 11, 5]:\n",
    "        break\n",
    "    else:\n",
    "        print(i)\n",
    "    print(\"El valor que siempre se imprime es: \" + str(i))"
   ]
  },
  {
   "cell_type": "code",
   "execution_count": 220,
   "metadata": {},
   "outputs": [
    {
     "name": "stdout",
     "output_type": "stream",
     "text": [
      "0\n",
      "El valor que siempre se imprime es: 0\n",
      "1\n",
      "El valor que siempre se imprime es: 1\n",
      "2\n",
      "El valor que siempre se imprime es: 2\n",
      "3\n",
      "El valor que siempre se imprime es: 3\n",
      "4\n",
      "El valor que siempre se imprime es: 4\n",
      "6\n",
      "El valor que siempre se imprime es: 6\n",
      "8\n",
      "El valor que siempre se imprime es: 8\n",
      "9\n",
      "El valor que siempre se imprime es: 9\n"
     ]
    }
   ],
   "source": [
    "for i in range(10):\n",
    "    if i in [ 7, 5]:\n",
    "        continue\n",
    "    else:\n",
    "        print(i)\n",
    "    print(\"El valor que siempre se imprime es: \" + str(i))"
   ]
  },
  {
   "cell_type": "code",
   "execution_count": 222,
   "metadata": {},
   "outputs": [
    {
     "name": "stdout",
     "output_type": "stream",
     "text": [
      "1 es impar\n",
      "2 es par\n",
      "3 es impar\n",
      "4 es par\n",
      "5 es impar\n",
      "6 es par\n",
      "7 es impar\n",
      "8 es par\n",
      "9 es impar\n",
      "10 es par\n"
     ]
    }
   ],
   "source": [
    "numeros = [1, 2, 3, 4, 5, 6, 7, 8, 9, 10]\n",
    "\n",
    "for numero in numeros:\n",
    "    if numero % 2 == 0:\n",
    "        print(numero, \"es par\")\n",
    "    else:\n",
    "        print(numero, \"es impar\")"
   ]
  },
  {
   "cell_type": "code",
   "execution_count": 223,
   "metadata": {},
   "outputs": [
    {
     "name": "stdout",
     "output_type": "stream",
     "text": [
      "manzana cuesta más de 2.0\n",
      "pera cuesta más de 2.0\n"
     ]
    }
   ],
   "source": [
    "productos = {\n",
    "    \"manzana\": 2.5,\n",
    "    \"banana\": 1.8,\n",
    "    \"pera\": 3.0\n",
    "}\n",
    "\n",
    "for producto, precio in productos.items():\n",
    "    if precio > 2.0:\n",
    "        print(producto, \"cuesta más de 2.0\")"
   ]
  },
  {
   "cell_type": "markdown",
   "metadata": {},
   "source": [
    "### Conjuntos\n",
    "\n",
    "Los _sets_ son secuencias de elementos con las mismas características que las listas, pero sin repetición ni orden de elementos."
   ]
  },
  {
   "cell_type": "code",
   "execution_count": 8,
   "metadata": {},
   "outputs": [
    {
     "name": "stdout",
     "output_type": "stream",
     "text": [
      "{0, 1, 2, 3}\n"
     ]
    }
   ],
   "source": [
    "s = {0, 0, 2, 1, 1,3}\n",
    "print(s)"
   ]
  },
  {
   "cell_type": "code",
   "execution_count": 9,
   "metadata": {},
   "outputs": [
    {
     "data": {
      "text/plain": [
       "set"
      ]
     },
     "execution_count": 9,
     "metadata": {},
     "output_type": "execute_result"
    }
   ],
   "source": [
    "type(s)"
   ]
  },
  {
   "cell_type": "code",
   "execution_count": 230,
   "metadata": {},
   "outputs": [
    {
     "name": "stdout",
     "output_type": "stream",
     "text": [
      "{0, 1, 2, 3, 4, 8}\n"
     ]
    }
   ],
   "source": [
    "s.add(4)\n",
    "s.add(8)\n",
    "s.add(0)\n",
    "print(s)"
   ]
  },
  {
   "cell_type": "code",
   "execution_count": 232,
   "metadata": {},
   "outputs": [
    {
     "name": "stdout",
     "output_type": "stream",
     "text": [
      "True\n",
      "6\n"
     ]
    }
   ],
   "source": [
    "print(0 in s)\n",
    "print(len(s))"
   ]
  },
  {
   "cell_type": "markdown",
   "metadata": {},
   "source": [
    "- Los _frozensets_ son como los sets, pero inmutables."
   ]
  },
  {
   "cell_type": "code",
   "execution_count": 233,
   "metadata": {},
   "outputs": [
    {
     "name": "stdout",
     "output_type": "stream",
     "text": [
      "frozenset({3, 4})\n"
     ]
    }
   ],
   "source": [
    "fs = frozenset((3, 4))\n",
    "print(fs)"
   ]
  },
  {
   "cell_type": "code",
   "execution_count": 234,
   "metadata": {},
   "outputs": [
    {
     "ename": "AttributeError",
     "evalue": "'frozenset' object has no attribute 'add'",
     "output_type": "error",
     "traceback": [
      "\u001b[1;31m---------------------------------------------------------------------------\u001b[0m",
      "\u001b[1;31mAttributeError\u001b[0m                            Traceback (most recent call last)",
      "Cell \u001b[1;32mIn[234], line 1\u001b[0m\n\u001b[1;32m----> 1\u001b[0m \u001b[43mfs\u001b[49m\u001b[38;5;241;43m.\u001b[39;49m\u001b[43madd\u001b[49m(\u001b[38;5;241m0\u001b[39m)\n",
      "\u001b[1;31mAttributeError\u001b[0m: 'frozenset' object has no attribute 'add'"
     ]
    }
   ],
   "source": [
    "fs.add(0)"
   ]
  },
  {
   "cell_type": "markdown",
   "metadata": {},
   "source": [
    "- Los sets y frozensets soportan algunas operaciones de conjuntos:\n",
    "\n",
    "  - `s1 <= s2`: ¿es `s1` un subconjunto de `s2`? (sin =, propio)\n",
    "  - `s1 >= s2`: ¿es `s2` un subconjunto de `s1`?(sin =, propio)\n",
    "  - `s1 | s2`: devuelve la unión de `s1` y `s2`\n",
    "  - `s1 & s2`: devuelve la intersección de `s1` y `s2`\n",
    "  - `s1 - s2`: devuelve los elementos de `s1`y que no están en `s2`\n",
    "  - `s1 ^ s2`: devuelve los elementos que están en `s1`o `s2`, pero no ambos"
   ]
  },
  {
   "cell_type": "code",
   "execution_count": 239,
   "metadata": {},
   "outputs": [
    {
     "name": "stdout",
     "output_type": "stream",
     "text": [
      "True\n",
      "{0, 1, 3}\n",
      "{1}\n",
      "{0}\n",
      "{0, 3}\n"
     ]
    }
   ],
   "source": [
    "s1 = {0, 1}\n",
    "s2 = {1, 3}\n",
    "s3 = {1}\n",
    "print(s1 >= s3)\n",
    "print(s1 | s2)\n",
    "print(s1 & s2)\n",
    "print(s1 - s2)\n",
    "print(s1 ^ s2)"
   ]
  },
  {
   "cell_type": "code",
   "execution_count": null,
   "metadata": {},
   "outputs": [],
   "source": []
  }
 ],
 "metadata": {
  "kernelspec": {
   "display_name": "Python 3 (ipykernel)",
   "language": "python",
   "name": "python3"
  },
  "language_info": {
   "codemirror_mode": {
    "name": "ipython",
    "version": 3
   },
   "file_extension": ".py",
   "mimetype": "text/x-python",
   "name": "python",
   "nbconvert_exporter": "python",
   "pygments_lexer": "ipython3",
   "version": "3.9.18"
  }
 },
 "nbformat": 4,
 "nbformat_minor": 4
}
