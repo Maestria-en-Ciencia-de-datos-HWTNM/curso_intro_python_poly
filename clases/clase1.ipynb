{
 "cells": [
  {
   "cell_type": "markdown",
   "metadata": {},
   "source": [
    "# Clase 1 - Python Básico\n",
    "## Diplomado en Argumentación y Narrativa Soportada en Análisis de Datos\n",
    "### Politécnico Gran Colombiano - 2024\n",
    "<img src= \"https://upload.wikimedia.org/wikipedia/commons/thumb/7/76/Logo_del_Polit%C3%A9cnico_Grancolombiano.svg/1200px-Logo_del_Polit%C3%A9cnico_Grancolombiano.svg.png\" width=300>\n",
    "\n",
    "# Introducción a Python"
   ]
  },
  {
   "cell_type": "code",
   "execution_count": 4,
   "metadata": {},
   "outputs": [
    {
     "name": "stdout",
     "output_type": "stream",
     "text": [
      "Python 3.9.18\n"
     ]
    }
   ],
   "source": [
    "!python --version"
   ]
  },
  {
   "cell_type": "markdown",
   "metadata": {},
   "source": [
    "## Palabras reservadas\n",
    "\n",
    "Las palabras reservadas de un lenguaje de programación son aquellas que son propias del mismo y por ello no pueden ser usadas para ningún propósito en partícular (Variables, valores, etc)"
   ]
  },
  {
   "cell_type": "code",
   "execution_count": 10,
   "metadata": {},
   "outputs": [
    {
     "data": {
      "text/plain": [
       "['False',\n",
       " 'None',\n",
       " 'True',\n",
       " '__peg_parser__',\n",
       " 'and',\n",
       " 'as',\n",
       " 'assert',\n",
       " 'async',\n",
       " 'await',\n",
       " 'break',\n",
       " 'class',\n",
       " 'continue',\n",
       " 'def',\n",
       " 'del',\n",
       " 'elif',\n",
       " 'else',\n",
       " 'except',\n",
       " 'finally',\n",
       " 'for',\n",
       " 'from',\n",
       " 'global',\n",
       " 'if',\n",
       " 'import',\n",
       " 'in',\n",
       " 'is',\n",
       " 'lambda',\n",
       " 'nonlocal',\n",
       " 'not',\n",
       " 'or',\n",
       " 'pass',\n",
       " 'raise',\n",
       " 'return',\n",
       " 'try',\n",
       " 'while',\n",
       " 'with',\n",
       " 'yield']"
      ]
     },
     "execution_count": 10,
     "metadata": {},
     "output_type": "execute_result"
    }
   ],
   "source": [
    "import keyword\n",
    "keyword.kwlist"
   ]
  },
  {
   "cell_type": "code",
   "execution_count": 9,
   "metadata": {},
   "outputs": [
    {
     "name": "stdout",
     "output_type": "stream",
     "text": [
      "Hello world!\n",
      "hola a todos\n",
      "      bienvenidos!\n"
     ]
    }
   ],
   "source": [
    "# Imprimir Hello world!\n",
    "\"\"\"\n",
    "Imprimir Hello world!\n",
    "\"\"\"\n",
    "\n",
    "\n",
    "print('Hello world!')\n",
    "\n",
    "print('''hola a todos\n",
    "      bienvenidos!''')"
   ]
  },
  {
   "cell_type": "markdown",
   "metadata": {},
   "source": [
    "# Tipos de datos en Python"
   ]
  },
  {
   "cell_type": "markdown",
   "metadata": {},
   "source": [
    "## Tipos de Datos Primitivos\n",
    "\n",
    "Los datos primitivos son los bloques básicos de construcción en Python. Son valores simples e inmutables, lo que significa que una vez asignados, no pueden ser modificados directamente. Los tipos de datos primitivos más comunes en Python son:\n",
    "\n",
    "- Numéricos:\n",
    "    - int: Números enteros (ej: 42, -10, 0)\n",
    "    - float: Números con decimales (ej: 3.14, -2.5, 1.0e-5)\n",
    "    - complex: Números complejos (ej: 2+3j, -1-0.5j)\n",
    "- Booleano:\n",
    "    - bool: Valores lógicos (True o False)\n",
    "- None:\n",
    "    - None: Representa la ausencia de un valor\n",
    "- Cadena de caracteres:\n",
    "    - str: Secuencia de caracteres (ej: \"Hola\", \"mundo\", \"\")\n",
    "\n",
    "## Tipos de Datos Objeto\n",
    "\n",
    "Los tipos de datos objeto, por otro lado, son más complejos y versátiles. Son como contenedores que pueden almacenar múltiples valores y, a menudo, tienen métodos asociados para realizar operaciones sobre esos valores. Los tipos de datos objeto más comunes en Python son:\n",
    "\n",
    "- Listas: Colecciones ordenadas de elementos (ej: [1, 2, 3], [\"manzana\", \"banana\", \"cereza\"])\n",
    "- Tuplas: Colecciones ordenadas e inmutables de elementos (ej: (1, 2, 3), (\"manzana\", \"banana\", \"cereza\"))\n",
    "- Diccionarios: Colecciones de pares clave-valor (ej: {\"nombre\": \"Alicia\", \"edad\": 30}, {\"frutas\": [\"manzana\", \"banana\"]})\n",
    "- Conjuntos: Colecciones no ordenadas de elementos únicos (ej: {1, 2, 3}, {\"manzana\", \"banana\"})\n",
    "- Clases: Plantillas para crear objetos personalizados con sus propios atributos y métodos\n",
    "\n",
    "#### ¿Cuál es la diferencia principal entre ambos?\n",
    "\n",
    "- Mutabilidad: Los tipos de datos primitivos son inmutables, mientras que los tipos de datos objeto suelen ser mutables, lo que significa que puedes modificar sus elementos después de crearlos.\n",
    "- Complejidad: Los tipos de datos objeto son más complejos y ofrecen más funcionalidades que los tipos de datos primitivos.\n",
    "- Almacenamiento: Los tipos de datos primitivos se almacenan directamente en la memoria, mientras que los tipos de datos objeto son referencias a objetos almacenados en otra parte de la memoria."
   ]
  },
  {
   "cell_type": "markdown",
   "metadata": {},
   "source": [
    "## Tipos de Datos Primitivos"
   ]
  },
  {
   "cell_type": "markdown",
   "metadata": {},
   "source": [
    "| Tipo de dato | Descripción | Ejemplos | Uso común |\n",
    "|---|---|---|---|\n",
    "| **Entero (int)** | Números enteros sin parte decimal. | 42, -10, 0 | Conteo, índices, operaciones aritméticas básicas. |\n",
    "| **Flotante (float)** | Números reales con parte decimal. | 3.14, -2.5, 1.0e-5 | Medidas, cálculos científicos, operaciones que requieren precisión decimal. |\n",
    "| **Complejo (complex)** | Números con parte real e imaginaria. | 2+3j, -1-0.5j | Matemáticas, física, procesamiento de señales. |\n",
    "\n",
    "**Resumen:**\n",
    "\n",
    "* **Enteros:** Perfectos para representar cantidades exactas y discretas.\n",
    "* **Flotantes:** Ideales para valores con decimales, como medidas físicas o resultados de cálculos científicos.\n",
    "* **Complejos:** Esenciales en áreas donde los números complejos son fundamentales, como la electrónica o la teoría de señales.\n"
   ]
  },
  {
   "cell_type": "markdown",
   "metadata": {},
   "source": []
  }
 ],
 "metadata": {
  "kernelspec": {
   "display_name": "Python 3",
   "language": "python",
   "name": "python3"
  },
  "language_info": {
   "codemirror_mode": {
    "name": "ipython",
    "version": 3
   },
   "file_extension": ".py",
   "mimetype": "text/x-python",
   "name": "python",
   "nbconvert_exporter": "python",
   "pygments_lexer": "ipython3",
   "version": "3.9.18"
  }
 },
 "nbformat": 4,
 "nbformat_minor": 2
}
