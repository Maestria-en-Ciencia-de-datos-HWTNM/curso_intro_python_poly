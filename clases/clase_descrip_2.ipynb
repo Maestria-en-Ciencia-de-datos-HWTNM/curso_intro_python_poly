{
 "cells": [
  {
   "cell_type": "markdown",
   "metadata": {},
   "source": [
    "# Estadística descriptiva con Python-NumPy"
   ]
  },
  {
   "cell_type": "markdown",
   "metadata": {},
   "source": [
    "<img src=https://media.hackerearth.com/blog/wp-content/uploads/2016/12/distriptive_stats.png>"
   ]
  },
  {
   "cell_type": "markdown",
   "metadata": {},
   "source": []
  },
  {
   "cell_type": "code",
   "execution_count": 1,
   "metadata": {},
   "outputs": [
    {
     "data": {
      "text/html": [
       "<div>\n",
       "<style scoped>\n",
       "    .dataframe tbody tr th:only-of-type {\n",
       "        vertical-align: middle;\n",
       "    }\n",
       "\n",
       "    .dataframe tbody tr th {\n",
       "        vertical-align: top;\n",
       "    }\n",
       "\n",
       "    .dataframe thead th {\n",
       "        text-align: right;\n",
       "    }\n",
       "</style>\n",
       "<table border=\"1\" class=\"dataframe\">\n",
       "  <thead>\n",
       "    <tr style=\"text-align: right;\">\n",
       "      <th></th>\n",
       "      <th>Midterm 1</th>\n",
       "      <th>Midterm 2</th>\n",
       "      <th>Midterm 3</th>\n",
       "      <th>Midterm 4</th>\n",
       "      <th>Midterm 5</th>\n",
       "    </tr>\n",
       "  </thead>\n",
       "  <tbody>\n",
       "    <tr>\n",
       "      <th>Alice</th>\n",
       "      <td>15</td>\n",
       "      <td>18</td>\n",
       "      <td>17</td>\n",
       "      <td>16</td>\n",
       "      <td>19</td>\n",
       "    </tr>\n",
       "    <tr>\n",
       "      <th>Bob</th>\n",
       "      <td>12</td>\n",
       "      <td>14</td>\n",
       "      <td>13</td>\n",
       "      <td>15</td>\n",
       "      <td>17</td>\n",
       "    </tr>\n",
       "    <tr>\n",
       "      <th>Charlie</th>\n",
       "      <td>18</td>\n",
       "      <td>19</td>\n",
       "      <td>20</td>\n",
       "      <td>17</td>\n",
       "      <td>16</td>\n",
       "    </tr>\n",
       "    <tr>\n",
       "      <th>David</th>\n",
       "      <td>16</td>\n",
       "      <td>17</td>\n",
       "      <td>18</td>\n",
       "      <td>19</td>\n",
       "      <td>15</td>\n",
       "    </tr>\n",
       "    <tr>\n",
       "      <th>Eve</th>\n",
       "      <td>19</td>\n",
       "      <td>17</td>\n",
       "      <td>16</td>\n",
       "      <td>18</td>\n",
       "      <td>20</td>\n",
       "    </tr>\n",
       "    <tr>\n",
       "      <th>Frank</th>\n",
       "      <td>14</td>\n",
       "      <td>15</td>\n",
       "      <td>16</td>\n",
       "      <td>17</td>\n",
       "      <td>18</td>\n",
       "    </tr>\n",
       "    <tr>\n",
       "      <th>Grace</th>\n",
       "      <td>17</td>\n",
       "      <td>18</td>\n",
       "      <td>19</td>\n",
       "      <td>20</td>\n",
       "      <td>16</td>\n",
       "    </tr>\n",
       "    <tr>\n",
       "      <th>Henry</th>\n",
       "      <td>15</td>\n",
       "      <td>16</td>\n",
       "      <td>17</td>\n",
       "      <td>18</td>\n",
       "      <td>19</td>\n",
       "    </tr>\n",
       "    <tr>\n",
       "      <th>Ivy</th>\n",
       "      <td>18</td>\n",
       "      <td>19</td>\n",
       "      <td>20</td>\n",
       "      <td>16</td>\n",
       "      <td>17</td>\n",
       "    </tr>\n",
       "    <tr>\n",
       "      <th>Jack</th>\n",
       "      <td>16</td>\n",
       "      <td>17</td>\n",
       "      <td>18</td>\n",
       "      <td>19</td>\n",
       "      <td>20</td>\n",
       "    </tr>\n",
       "  </tbody>\n",
       "</table>\n",
       "</div>"
      ],
      "text/plain": [
       "         Midterm 1  Midterm 2  Midterm 3  Midterm 4  Midterm 5\n",
       "Alice           15         18         17         16         19\n",
       "Bob             12         14         13         15         17\n",
       "Charlie         18         19         20         17         16\n",
       "David           16         17         18         19         15\n",
       "Eve             19         17         16         18         20\n",
       "Frank           14         15         16         17         18\n",
       "Grace           17         18         19         20         16\n",
       "Henry           15         16         17         18         19\n",
       "Ivy             18         19         20         16         17\n",
       "Jack            16         17         18         19         20"
      ]
     },
     "execution_count": 1,
     "metadata": {},
     "output_type": "execute_result"
    }
   ],
   "source": [
    "import pandas as pd\n",
    "import numpy as np\n",
    "\n",
    "# Create a list of student names\n",
    "students = ['Alice', 'Bob', 'Charlie', 'David', 'Eve', 'Frank', 'Grace', 'Henry', 'Ivy', 'Jack']\n",
    "\n",
    "# Create a list of midterm exam scores\n",
    "scores = [[15, 18, 17, 16, 19],\n",
    "          [12, 14, 13, 15, 17],\n",
    "          [18, 19, 20, 17, 16],\n",
    "          [16, 17, 18, 19, 15],\n",
    "          [19, 17, 16, 18, 20],\n",
    "          [14, 15, 16, 17, 18],\n",
    "          [17, 18, 19, 20, 16],\n",
    "          [15, 16, 17, 18, 19],\n",
    "          [18, 19, 20, 16, 17],\n",
    "          [16, 17, 18, 19, 20]]\n",
    "\n",
    "# Create a DataFrame from the lists\n",
    "df = pd.DataFrame(scores, index=students, columns=['Midterm 1', 'Midterm 2', 'Midterm 3', 'Midterm 4', 'Midterm 5'])\n",
    "\n",
    "df"
   ]
  },
  {
   "cell_type": "code",
   "execution_count": 2,
   "metadata": {},
   "outputs": [
    {
     "data": {
      "text/plain": [
       "array([[15, 18, 17, 16, 19],\n",
       "       [12, 14, 13, 15, 17],\n",
       "       [18, 19, 20, 17, 16],\n",
       "       [16, 17, 18, 19, 15],\n",
       "       [19, 17, 16, 18, 20],\n",
       "       [14, 15, 16, 17, 18],\n",
       "       [17, 18, 19, 20, 16],\n",
       "       [15, 16, 17, 18, 19],\n",
       "       [18, 19, 20, 16, 17],\n",
       "       [16, 17, 18, 19, 20]], dtype=int64)"
      ]
     },
     "execution_count": 2,
     "metadata": {},
     "output_type": "execute_result"
    }
   ],
   "source": [
    "arr_calificaciones=df.values\n",
    "arr_calificaciones"
   ]
  },
  {
   "cell_type": "markdown",
   "metadata": {},
   "source": [
    "# Medidas Centrales"
   ]
  },
  {
   "cell_type": "code",
   "execution_count": 3,
   "metadata": {},
   "outputs": [
    {
     "data": {
      "text/plain": [
       "array([16. , 17. , 17.4, 17.5, 17.7])"
      ]
     },
     "execution_count": 3,
     "metadata": {},
     "output_type": "execute_result"
    }
   ],
   "source": [
    "#media por materia\n",
    "np.mean(arr_calificaciones,axis=0)"
   ]
  },
  {
   "cell_type": "code",
   "execution_count": 4,
   "metadata": {},
   "outputs": [
    {
     "data": {
      "text/plain": [
       "array([17. , 14.2, 18. , 17. , 18. , 16. , 18. , 17. , 18. , 18. ])"
      ]
     },
     "execution_count": 4,
     "metadata": {},
     "output_type": "execute_result"
    }
   ],
   "source": [
    "#media de las notas para cada estudiante\n",
    "np.mean(arr_calificaciones,axis=1)"
   ]
  },
  {
   "cell_type": "markdown",
   "metadata": {},
   "source": [
    "- La media representa el valor típico que actúa como un punto de referencia para todas las observaciones. Por ejemplo, en nuestro ejemplo anterior, el promedio de las calificaciones de la clase ayudará al profesor a juzgar el rendimiento de un individuo en relación con los demás.\n",
    "\n",
    "- La mediana es el valor donde la mitad superior de los datos está por encima de él y la mitad inferior está por debajo de él. En otras palabras, es el valor medio de un conjunto de datos.\n",
    "- Para calcular la mediana, ordene los puntos de datos en orden creciente y el valor medio es la mediana. Es fácil encontrar el valor medio si hay un número impar de puntos de datos, por ejemplo, si queremos encontrar la mediana de las calificaciones de todos los estudiantes para la Materia 1. Cuando las calificaciones se ordenan en orden creciente, obtenemos {7,9.5,10,11,14,15,19}. Claramente, el valor medio es 11; por lo tanto, la mediana es 11."
   ]
  },
  {
   "cell_type": "code",
   "execution_count": 5,
   "metadata": {},
   "outputs": [
    {
     "data": {
      "text/plain": [
       "array([16. , 17. , 17.5, 17.5, 17.5])"
      ]
     },
     "execution_count": 5,
     "metadata": {},
     "output_type": "execute_result"
    }
   ],
   "source": [
    "np.median(arr_calificaciones,axis=0)"
   ]
  },
  {
   "cell_type": "code",
   "execution_count": 6,
   "metadata": {},
   "outputs": [
    {
     "data": {
      "text/plain": [
       "array([17., 14., 18., 17., 18., 16., 18., 17., 18., 18.])"
      ]
     },
     "execution_count": 6,
     "metadata": {},
     "output_type": "execute_result"
    }
   ],
   "source": [
    "np.median(arr_calificaciones,axis=1)"
   ]
  },
  {
   "cell_type": "markdown",
   "metadata": {},
   "source": [
    "- La mediana es una mejor opción cuando el indicador puede verse afectado por algunos valores atípicos.\n",
    "- Si algunos estudiantes tienen notas mucho más altas que el resto, y sus calificaciones se incluyeron en el cálculo de la media, esto hace menos representativa de la observación típica. \n",
    "- Por otro lado, la mediana es el valor medio que no se ve afectado por estos valores atípicos. Nos brinda una mejor estimación de la puntuación típica. Sin embargo, esto significa que la presencia de las calificaciones relativamente más altas  se oculta.\n",
    "- La media es una mejor opción cuando no hay valores extremos que puedan afectarla. Es un mejor estimador porque se incluye la información de cada observación en lugar de la mediana, que es solo el valor medio."
   ]
  },
  {
   "cell_type": "markdown",
   "metadata": {},
   "source": [
    "- La moda es el valor que ocurre la mayor cantidad de veces en nuestro conjunto de datos."
   ]
  },
  {
   "cell_type": "code",
   "execution_count": 7,
   "metadata": {
    "editable": true,
    "slideshow": {
     "slide_type": ""
    },
    "tags": []
   },
   "outputs": [],
   "source": [
    "from scipy import  stats as sts"
   ]
  },
  {
   "cell_type": "code",
   "execution_count": 8,
   "metadata": {},
   "outputs": [
    {
     "data": {
      "text/plain": [
       "ModeResult(mode=array([15, 17, 16, 16, 16], dtype=int64), count=array([2, 3, 2, 2, 2], dtype=int64))"
      ]
     },
     "execution_count": 8,
     "metadata": {},
     "output_type": "execute_result"
    }
   ],
   "source": [
    "# (mode: array of modal values, count: array of counts for each mode).\n",
    "sts.mode(arr_calificaciones,axis=0)"
   ]
  },
  {
   "cell_type": "code",
   "execution_count": 9,
   "metadata": {},
   "outputs": [
    {
     "data": {
      "text/plain": [
       "ModeResult(mode=array([15, 12, 16, 15, 16, 14, 16, 15, 16, 16], dtype=int64), count=array([1, 1, 1, 1, 1, 1, 1, 1, 1, 1], dtype=int64))"
      ]
     },
     "execution_count": 9,
     "metadata": {},
     "output_type": "execute_result"
    }
   ],
   "source": [
    "sts.mode(arr_calificaciones,axis=1)"
   ]
  },
  {
   "cell_type": "markdown",
   "metadata": {},
   "source": [
    "# Dispersion"
   ]
  },
  {
   "cell_type": "markdown",
   "metadata": {},
   "source": [
    "- El rango es la diferencia entre los valores máximo y mínimo en la distribución.\n",
    "-  Existen algunas desventajas de usar el rango como medida de dispersión. Una de ellas es que no proporciona ninguna información sobre los datos entre el máximo y el mínimo.\n",
    "- El percentil es una medida que indica el valor por debajo del cual cae un determinado porcentaje de puntos en un conjunto de datos. Por ejemplo, el percentil 35 es la puntuación por debajo de la cual se puede encontrar el 35% de los puntos de datos. La mediana representa el percentil 50. Del mismo modo, podemos tener el percentil 0 representando el mínimo y el percentil 100 representando el máximo de todos los puntos de datos.\n",
    "- El percentil da la posición relativa de un valor particular dentro del conjunto de datos. Si estamos interesados en posiciones relativas, entonces la media y la desviación estándar no tienen sentido (En el caso de las calificaciones de los exámenes, no sabemos si podría haber sido un examen difícil y 7 puntos de 20 serían una calificación increíble. En este caso, las calificaciones personales en sí mismas no tienen sentido, pero el percentil reflejaría todo.)\n",
    "- Los cuartiles son los tres puntos que dividen el conjunto de datos en cuatro partes iguales de modo que cada grupo consta de una cuarta parte de los datos. También llamamos percentil 25 el primer cuartil (Q1), percentil 50 el segundo cuartil (Q2) y percentil 75 el tercer cuartil (Q3).\n",
    "- El Rango Intercuartíl (IQR) es la diferencia entre el tercer cuartil y el primer cuartil. Esta es una mejor opción que el rango porque no se ve afectado por los valores atípicos. Elimina los valores atípicos al centrarse solo en la distancia dentro del 50% medio de los datos.\n",
    "- La varianza es el promedio de las diferencias al cuadrado de la media. Nos permite medir la dispersión de un conjunto de datos alrededor de su media.\n",
    "- La desviación estándar es la raíz cuadrada de la varianza. Está en la misma escala que los valores en el conjunto de datos. Por lo tanto, se expresa en las mismas unidades, mientras que la varianza se escala más grande.\n",
    "- El skewness se refiere a si la distribución tiene una cola más larga en un lado o en el otro o tiene simetría izquierda-derecha. Puede ser positiva (representando una distribución sesgada hacia la derecha), negativa (representando una distribución sesgada hacia la izquierda) o cero (representando una distribución no sesgada).\n",
    "- La curtosis cuantifica  si la forma de una distribución tiene colas anchas."
   ]
  },
  {
   "cell_type": "code",
   "execution_count": 10,
   "metadata": {},
   "outputs": [
    {
     "data": {
      "text/plain": [
       "array([7, 5, 7, 5, 5], dtype=int64)"
      ]
     },
     "execution_count": 10,
     "metadata": {},
     "output_type": "execute_result"
    }
   ],
   "source": [
    "#rango\n",
    "np.ptp(arr_calificaciones,axis=0)"
   ]
  },
  {
   "cell_type": "code",
   "execution_count": 11,
   "metadata": {},
   "outputs": [
    {
     "data": {
      "text/plain": [
       "array([4, 5, 4, 4, 4, 4, 4, 4, 4, 4], dtype=int64)"
      ]
     },
     "execution_count": 11,
     "metadata": {},
     "output_type": "execute_result"
    }
   ],
   "source": [
    "np.ptp(arr_calificaciones,axis=1)"
   ]
  },
  {
   "cell_type": "code",
   "execution_count": 12,
   "metadata": {},
   "outputs": [
    {
     "data": {
      "text/plain": [
       "array([16, 13, 17, 16, 17, 15, 17, 16, 17, 17], dtype=int64)"
      ]
     },
     "execution_count": 12,
     "metadata": {},
     "output_type": "execute_result"
    }
   ],
   "source": [
    "#percentiles\n",
    "p25=np.percentile(arr_calificaciones,25,axis=1, interpolation='lower')\n",
    "p25"
   ]
  },
  {
   "cell_type": "code",
   "execution_count": 13,
   "metadata": {},
   "outputs": [
    {
     "data": {
      "text/plain": [
       "array([17, 14, 18, 17, 18, 16, 18, 17, 18, 18], dtype=int64)"
      ]
     },
     "execution_count": 13,
     "metadata": {},
     "output_type": "execute_result"
    }
   ],
   "source": [
    "np.percentile(arr_calificaciones,50,axis=1, interpolation='lower')"
   ]
  },
  {
   "cell_type": "code",
   "execution_count": 14,
   "metadata": {},
   "outputs": [
    {
     "data": {
      "text/plain": [
       "array([17., 14., 18., 17., 18., 16., 18., 17., 18., 18.])"
      ]
     },
     "execution_count": 14,
     "metadata": {},
     "output_type": "execute_result"
    }
   ],
   "source": [
    "np.median(arr_calificaciones,axis=1)"
   ]
  },
  {
   "cell_type": "code",
   "execution_count": 15,
   "metadata": {},
   "outputs": [
    {
     "data": {
      "text/plain": [
       "array([18, 15, 19, 18, 19, 17, 19, 18, 19, 19], dtype=int64)"
      ]
     },
     "execution_count": 15,
     "metadata": {},
     "output_type": "execute_result"
    }
   ],
   "source": [
    "p75=np.percentile(arr_calificaciones,75,axis=1, interpolation='lower')\n",
    "p75"
   ]
  },
  {
   "cell_type": "code",
   "execution_count": 16,
   "metadata": {},
   "outputs": [
    {
     "data": {
      "text/plain": [
       "array([2, 2, 2, 2, 2, 2, 2, 2, 2, 2], dtype=int64)"
      ]
     },
     "execution_count": 16,
     "metadata": {},
     "output_type": "execute_result"
    }
   ],
   "source": [
    "p75-p25"
   ]
  },
  {
   "cell_type": "code",
   "execution_count": 17,
   "metadata": {},
   "outputs": [
    {
     "data": {
      "text/plain": [
       "array([2, 2, 2, 2, 2, 2, 2, 2, 2, 2], dtype=int64)"
      ]
     },
     "execution_count": 17,
     "metadata": {},
     "output_type": "execute_result"
    }
   ],
   "source": [
    "#IQR\n",
    "sts.iqr(arr_calificaciones, axis=1 , rng=(25, 75), interpolation='lower')"
   ]
  },
  {
   "cell_type": "code",
   "execution_count": 18,
   "metadata": {},
   "outputs": [
    {
     "data": {
      "text/plain": [
       "array([4.  , 2.4 , 4.04, 2.25, 2.81])"
      ]
     },
     "execution_count": 18,
     "metadata": {},
     "output_type": "execute_result"
    }
   ],
   "source": [
    "#varianza\n",
    "np.var(arr_calificaciones,axis=0)"
   ]
  },
  {
   "cell_type": "code",
   "execution_count": 19,
   "metadata": {},
   "outputs": [
    {
     "data": {
      "text/plain": [
       "array([2.        , 1.54919334, 2.00997512, 1.5       , 1.67630546])"
      ]
     },
     "execution_count": 19,
     "metadata": {},
     "output_type": "execute_result"
    }
   ],
   "source": [
    "#std\n",
    "np.std(arr_calificaciones,axis=0)"
   ]
  },
  {
   "cell_type": "markdown",
   "metadata": {},
   "source": [
    "<img src=https://www.statisticalaid.com/wp-content/uploads/2021/01/skw.png width=400>"
   ]
  },
  {
   "cell_type": "code",
   "execution_count": 20,
   "metadata": {},
   "outputs": [
    {
     "data": {
      "text/plain": [
       "array([-0.375     , -0.48412292, -0.62953343,  0.        , -0.03057053])"
      ]
     },
     "execution_count": 20,
     "metadata": {},
     "output_type": "execute_result"
    }
   ],
   "source": [
    "sts.skew(arr_calificaciones,axis=0)"
   ]
  },
  {
   "cell_type": "code",
   "execution_count": 21,
   "metadata": {},
   "outputs": [
    {
     "data": {
      "text/plain": [
       "array([0.        , 0.39587034, 0.        , 0.        , 0.        ,\n",
       "       0.        , 0.        , 0.        , 0.        , 0.        ])"
      ]
     },
     "execution_count": 21,
     "metadata": {},
     "output_type": "execute_result"
    }
   ],
   "source": [
    "sts.skew(arr_calificaciones,axis=1)"
   ]
  },
  {
   "cell_type": "code",
   "execution_count": 22,
   "metadata": {},
   "outputs": [
    {
     "data": {
      "text/plain": [
       "array([-1.3       , -1.00547845, -1.3       , -1.3       , -1.3       ,\n",
       "       -1.3       , -1.3       , -1.3       , -1.3       , -1.3       ])"
      ]
     },
     "execution_count": 22,
     "metadata": {},
     "output_type": "execute_result"
    }
   ],
   "source": [
    "sts.kurtosis(arr_calificaciones,axis=1) "
   ]
  },
  {
   "cell_type": "code",
   "execution_count": 23,
   "metadata": {},
   "outputs": [
    {
     "data": {
      "text/plain": [
       "(array([2., 2., 1.]),\n",
       " array([12.        , 13.66666667, 15.33333333, 17.        ]),\n",
       " <BarContainer object of 3 artists>)"
      ]
     },
     "execution_count": 23,
     "metadata": {},
     "output_type": "execute_result"
    },
    {
     "data": {
      "image/png": "[encoded data removed]",
      "text/plain": [
       "<Figure size 640x480 with 1 Axes>"
      ]
     },
     "metadata": {},
     "output_type": "display_data"
    }
   ],
   "source": [
    "import matplotlib.pyplot as plt\n",
    "plt.hist(arr_calificaciones[1],bins=3)"
   ]
  },
  {
   "cell_type": "code",
   "execution_count": 26,
   "metadata": {},
   "outputs": [
    {
     "data": {
      "text/plain": [
       "{'bodies': [<matplotlib.collections.PolyCollection at 0x20576649760>,\n",
       "  <matplotlib.collections.PolyCollection at 0x20576649ac0>,\n",
       "  <matplotlib.collections.PolyCollection at 0x20576649e20>,\n",
       "  <matplotlib.collections.PolyCollection at 0x2057665c1c0>,\n",
       "  <matplotlib.collections.PolyCollection at 0x2057665c520>],\n",
       " 'cmaxes': <matplotlib.collections.LineCollection at 0x20576649700>,\n",
       " 'cmins': <matplotlib.collections.LineCollection at 0x2057665cc10>,\n",
       " 'cbars': <matplotlib.collections.LineCollection at 0x20576670070>,\n",
       " 'cmedians': <matplotlib.collections.LineCollection at 0x20576670490>}"
      ]
     },
     "execution_count": 26,
     "metadata": {},
     "output_type": "execute_result"
    },
    {
     "data": {
      "image/png": "[encoded data removed]",
      "text/plain": [
       "<Figure size 640x480 with 1 Axes>"
      ]
     },
     "metadata": {},
     "output_type": "display_data"
    }
   ],
   "source": [
    "plt.violinplot(arr_calificaciones,\n",
    "                  showmeans=False,\n",
    "                  showmedians=True)\n"
   ]
  },
  {
   "cell_type": "code",
   "execution_count": 31,
   "metadata": {},
   "outputs": [
    {
     "data": {
      "text/plain": [
       "{'whiskers': [<matplotlib.lines.Line2D at 0x205790f06d0>,\n",
       "  <matplotlib.lines.Line2D at 0x205790f0a90>,\n",
       "  <matplotlib.lines.Line2D at 0x20579101670>,\n",
       "  <matplotlib.lines.Line2D at 0x205790e04f0>,\n",
       "  <matplotlib.lines.Line2D at 0x20579114820>,\n",
       "  <matplotlib.lines.Line2D at 0x20579114fd0>,\n",
       "  <matplotlib.lines.Line2D at 0x2057919f1f0>,\n",
       "  <matplotlib.lines.Line2D at 0x2057918fdf0>,\n",
       "  <matplotlib.lines.Line2D at 0x20579107d30>,\n",
       "  <matplotlib.lines.Line2D at 0x205791070d0>],\n",
       " 'caps': [<matplotlib.lines.Line2D at 0x205790f0e50>,\n",
       "  <matplotlib.lines.Line2D at 0x20579101a90>,\n",
       "  <matplotlib.lines.Line2D at 0x205790e0370>,\n",
       "  <matplotlib.lines.Line2D at 0x205790e04c0>,\n",
       "  <matplotlib.lines.Line2D at 0x20579114160>,\n",
       "  <matplotlib.lines.Line2D at 0x20579116d60>,\n",
       "  <matplotlib.lines.Line2D at 0x2057918f7f0>,\n",
       "  <matplotlib.lines.Line2D at 0x205790edbe0>,\n",
       "  <matplotlib.lines.Line2D at 0x20579107730>,\n",
       "  <matplotlib.lines.Line2D at 0x20579107fd0>],\n",
       " 'boxes': [<matplotlib.lines.Line2D at 0x205790f0550>,\n",
       "  <matplotlib.lines.Line2D at 0x20579101340>,\n",
       "  <matplotlib.lines.Line2D at 0x20579114be0>,\n",
       "  <matplotlib.lines.Line2D at 0x20577f49850>,\n",
       "  <matplotlib.lines.Line2D at 0x205790eddc0>],\n",
       " 'medians': [<matplotlib.lines.Line2D at 0x20579101640>,\n",
       "  <matplotlib.lines.Line2D at 0x205790e0f10>,\n",
       "  <matplotlib.lines.Line2D at 0x20579116c10>,\n",
       "  <matplotlib.lines.Line2D at 0x205790ed910>,\n",
       "  <matplotlib.lines.Line2D at 0x2057910d9a0>],\n",
       " 'fliers': [<matplotlib.lines.Line2D at 0x20579101ee0>,\n",
       "  <matplotlib.lines.Line2D at 0x205790e0880>,\n",
       "  <matplotlib.lines.Line2D at 0x20579116730>,\n",
       "  <matplotlib.lines.Line2D at 0x205790edb50>,\n",
       "  <matplotlib.lines.Line2D at 0x2057910d6d0>],\n",
       " 'means': []}"
      ]
     },
     "execution_count": 31,
     "metadata": {},
     "output_type": "execute_result"
    },
    {
     "data": {
      "image/png": "[encoded data removed]",
      "text/plain": [
       "<Figure size 640x480 with 1 Axes>"
      ]
     },
     "metadata": {},
     "output_type": "display_data"
    }
   ],
   "source": [
    "plt.boxplot(arr_calificaciones,labels=df.columns )"
   ]
  },
  {
   "cell_type": "code",
   "execution_count": 33,
   "metadata": {},
   "outputs": [
    {
     "ename": "IndentationError",
     "evalue": "unindent does not match any outer indentation level (<tokenize>, line 3)",
     "output_type": "error",
     "traceback": [
      "\u001b[1;36m  File \u001b[1;32m<tokenize>:3\u001b[1;36m\u001b[0m\n\u001b[1;33m    o      |--------|     :     |--------|    o  o\u001b[0m\n\u001b[1;37m    ^\u001b[0m\n\u001b[1;31mIndentationError\u001b[0m\u001b[1;31m:\u001b[0m unindent does not match any outer indentation level\n"
     ]
    }
   ],
   "source": [
    "     Q1-1.5IQR   Q1   median  Q3   Q3+1.5IQR\n",
    "                  |-----:-----|\n",
    "  o      |--------|     :     |--------|    o  o\n",
    "                  |-----:-----|\n",
    "flier             <----------->            fliers\n",
    "                       IQR"
   ]
  },
  {
   "cell_type": "code",
   "execution_count": null,
   "metadata": {},
   "outputs": [],
   "source": []
  }
 ],
 "metadata": {
  "kernelspec": {
   "display_name": "Python 3 (ipykernel)",
   "language": "python",
   "name": "python3"
  },
  "language_info": {
   "codemirror_mode": {
    "name": "ipython",
    "version": 3
   },
   "file_extension": ".py",
   "mimetype": "text/x-python",
   "name": "python",
   "nbconvert_exporter": "python",
   "pygments_lexer": "ipython3",
   "version": "3.9.18"
  }
 },
 "nbformat": 4,
 "nbformat_minor": 4
}
