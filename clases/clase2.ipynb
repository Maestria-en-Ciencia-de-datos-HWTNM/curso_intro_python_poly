{
 "cells": [
  {
   "cell_type": "markdown",
   "metadata": {},
   "source": [
    "# Clase 2 - Python Básico\n",
    "## Diplomado en Argumentación y Narrativa Soportada en Análisis de Datos\n",
    "### Politécnico Gran Colombiano - 2024\n",
    "<img src= \"https://upload.wikimedia.org/wikipedia/commons/thumb/7/76/Logo_del_Polit%C3%A9cnico_Grancolombiano.svg/1200px-Logo_del_Polit%C3%A9cnico_Grancolombiano.svg.png\" width=300>\n"
   ]
  },
  {
   "cell_type": "markdown",
   "metadata": {},
   "source": [
    "\n",
    "# Funciones\n",
    "\n",
    "Las funciones son fragmentos de código que agrupan un conjunto de instrucciones y devuelven un valor. Estas nos ayudan para separar el código en segmentos que nos facilitan encontrar errores y también nos permiten reciclar código."
   ]
  },
  {
   "cell_type": "markdown",
   "metadata": {},
   "source": [
    "\n",
    "\n",
    "    def nombre_de_la_funcion(parametro1, parametro2, ...):\n",
    "        # Cuerpo de la función\n",
    "        # Instrucciones que realizan la tarea\n",
    "        return valor_a_retornar\n",
    "\n"
   ]
  },
  {
   "cell_type": "code",
   "execution_count": 135,
   "metadata": {},
   "outputs": [
    {
     "name": "stdout",
     "output_type": "stream",
     "text": [
      "Hola\n"
     ]
    }
   ],
   "source": [
    "def saludar():\n",
    "    print(\"Hola\")\n",
    "\n",
    "saludar() "
   ]
  },
  {
   "cell_type": "code",
   "execution_count": 136,
   "metadata": {},
   "outputs": [
    {
     "name": "stdout",
     "output_type": "stream",
     "text": [
      "Hola, Juan!\n"
     ]
    }
   ],
   "source": [
    "def saludar(nombre):\n",
    "    print(\"Hola,\", nombre + \"!\")\n",
    "\n",
    "saludar(\"Juan\") "
   ]
  },
  {
   "cell_type": "code",
   "execution_count": 137,
   "metadata": {},
   "outputs": [
    {
     "data": {
      "text/plain": [
       "116.0"
      ]
     },
     "execution_count": 137,
     "metadata": {},
     "output_type": "execute_result"
    }
   ],
   "source": [
    "def aplicar_impuesto(subtotal,impuesto):\n",
    "    return subtotal+subtotal*impuesto\n",
    "\n",
    "aplicar_impuesto(100,0.16)"
   ]
  },
  {
   "cell_type": "code",
   "execution_count": 138,
   "metadata": {},
   "outputs": [],
   "source": [
    "def aplicar_impuesto(subtotal,impuesto=0.16):\n",
    "    return subtotal+subtotal*impuesto"
   ]
  },
  {
   "cell_type": "code",
   "execution_count": 139,
   "metadata": {},
   "outputs": [
    {
     "data": {
      "text/plain": [
       "116.0"
      ]
     },
     "execution_count": 139,
     "metadata": {},
     "output_type": "execute_result"
    }
   ],
   "source": [
    "aplicar_impuesto(100)"
   ]
  },
  {
   "cell_type": "code",
   "execution_count": 140,
   "metadata": {},
   "outputs": [],
   "source": [
    "def aplicar_impuesto(subtotal=90,impuesto=0.16):\n",
    "    return subtotal+subtotal*impuesto"
   ]
  },
  {
   "cell_type": "code",
   "execution_count": 141,
   "metadata": {},
   "outputs": [
    {
     "data": {
      "text/plain": [
       "104.4"
      ]
     },
     "execution_count": 141,
     "metadata": {},
     "output_type": "execute_result"
    }
   ],
   "source": [
    "aplicar_impuesto()"
   ]
  },
  {
   "cell_type": "code",
   "execution_count": 142,
   "metadata": {},
   "outputs": [
    {
     "data": {
      "text/plain": [
       "(10, 14)"
      ]
     },
     "execution_count": 142,
     "metadata": {},
     "output_type": "execute_result"
    }
   ],
   "source": [
    "def perimetro_rect(a,b):\n",
    "    return a*2+b*2\n",
    "\n",
    "def area_rect(a,b):\n",
    "    return a*b\n",
    "\n",
    "def operaciones(a,b):\n",
    "    return area_rect(a,b),perimetro_rect(a,b)\n",
    "\n",
    "operaciones(2,5)"
   ]
  },
  {
   "cell_type": "code",
   "execution_count": 143,
   "metadata": {},
   "outputs": [
    {
     "name": "stdout",
     "output_type": "stream",
     "text": [
      "10\n"
     ]
    }
   ],
   "source": [
    "def maximo(a, b):\n",
    "    if a > b:\n",
    "        return a\n",
    "    else:\n",
    "        return b\n",
    "\n",
    "resultado = maximo(10, 5)\n",
    "print(resultado)  "
   ]
  },
  {
   "cell_type": "code",
   "execution_count": 144,
   "metadata": {},
   "outputs": [
    {
     "name": "stdout",
     "output_type": "stream",
     "text": [
      "True\n"
     ]
    }
   ],
   "source": [
    "def es_par(numero):\n",
    "    if numero % 2 == 0:\n",
    "        return True\n",
    "    else:\n",
    "        return False\n",
    "\n",
    "resultado = es_par(40)\n",
    "print(resultado) "
   ]
  },
  {
   "cell_type": "markdown",
   "metadata": {},
   "source": [
    "# ¿Qué son los arrays?\n",
    "\n",
    "En Python, los arrays son estructuras de datos que almacenan una colección de elementos del mismo tipo (homogéneos). Son similares a las listas, pero ofrecen ciertas ventajas en términos de eficiencia y operaciones numéricas, especialmente cuando se trabaja con grandes conjuntos de datos numéricos.\n",
    "\n",
    "La biblioteca estándar de Python incluye un módulo llamado array que proporciona la funcionalidad de los arrays. Sin embargo, para realizar operaciones numéricas más avanzadas con arrays, se suele utilizar la biblioteca NumPy, que es la librería fundamental para la computación científica en Python.\n",
    "\n",
    "## Propiedades de los arrays\n",
    "\n",
    "    - Homogeneidad: Todos los elementos de un array deben ser del mismo tipo de dato (enteros, flotantes, caracteres, etc.).\n",
    "    - Tamaño fijo: Una vez creado un array, su tamaño no puede modificarse directamente. Para cambiar su tamaño, es necesario crear un nuevo array.\n",
    "    - Índices: Los elementos de un array se acceden mediante índices, que comienzan en 0.\n",
    "    - Eficiencia: Los arrays suelen ser más eficientes que las listas para operaciones numéricas debido a su implementación optimizada."
   ]
  },
  {
   "cell_type": "code",
   "execution_count": 145,
   "metadata": {},
   "outputs": [
    {
     "name": "stdout",
     "output_type": "stream",
     "text": [
      "[1 2 3]\n",
      "[1.5 2.5 3.5]\n"
     ]
    }
   ],
   "source": [
    "import numpy as np\n",
    "\n",
    "# Crear un array de enteros\n",
    "enteros = np.array([1, 2, 3], dtype=np.int32)\n",
    "print(enteros)\n",
    "\n",
    "# Crear un array de flotantes\n",
    "flotantes = np.array([1.5, 2.5, 3.5], dtype=np.float64)\n",
    "print(flotantes)"
   ]
  },
  {
   "cell_type": "code",
   "execution_count": 146,
   "metadata": {},
   "outputs": [
    {
     "name": "stdout",
     "output_type": "stream",
     "text": [
      "[5 7 9]\n",
      "[ 4 10 18]\n",
      "2.0\n"
     ]
    }
   ],
   "source": [
    "\n",
    "# Crear dos arrays\n",
    "a = np.array([1, 2, 3])\n",
    "b = np.array([4, 5, 6])\n",
    "\n",
    "# Suma de arrays\n",
    "suma = a + b\n",
    "print(suma)\n",
    "\n",
    "# Producto elemento a elemento\n",
    "producto = a * b\n",
    "print(producto)\n",
    "# Media de un array\n",
    "media = np.mean(a)\n",
    "print(media)"
   ]
  },
  {
   "cell_type": "code",
   "execution_count": 147,
   "metadata": {},
   "outputs": [
    {
     "name": "stdout",
     "output_type": "stream",
     "text": [
      "[0 1 2 3 4 5 6 7 8 9]\n",
      "2\n",
      "[0 1 2 3 4]\n",
      "[0 2 4 6 8]\n"
     ]
    }
   ],
   "source": [
    "# Crear un array de 0 a 9\n",
    "arr = np.arange(10)\n",
    "print(arr)\n",
    "# Acceder al tercer elemento\n",
    "print(arr[2])  # Output: 2\n",
    "\n",
    "# Slicing para obtener los primeros 5 elementos\n",
    "print(arr[:5])  \n",
    "\n",
    "# Slicing para obtener elementos pares\n",
    "print(arr[::2])  "
   ]
  },
  {
   "cell_type": "markdown",
   "metadata": {},
   "source": [
    "## Broadcasting en NumPy\n",
    "\n",
    "- El broadcasting es una característica poderosa que permite realizar operaciones entre arrays de diferentes formas. NumPy intenta \"estirar\" el array más pequeño para que coincida con las dimensiones del array más grande.\n",
    "\n",
    "-Reglas del broadcasting:\n",
    "\n",
    "    - Comparar las dimensiones de los arrays de derecha a izquierda.\n",
    "    - Si una dimensión es 1, se \"estira\" para que coincida con la dimensión correspondiente del otro array.\n",
    "    - Si las dimensiones no son compatibles, se produce un error."
   ]
  },
  {
   "cell_type": "code",
   "execution_count": 148,
   "metadata": {},
   "outputs": [
    {
     "name": "stdout",
     "output_type": "stream",
     "text": [
      "[3 4 5 6 7]\n",
      "[ 2  4  6  8 10]\n"
     ]
    }
   ],
   "source": [
    "## Broadcasting\n",
    "# Crear un array de NumPy\n",
    "numeros_np = np.array([1, 2, 3, 4, 5])\n",
    "\n",
    "# Operaciones con arrays de NumPy\n",
    "suma = numeros_np + 2  # Suma 2 a cada elemento\n",
    "producto = numeros_np * 2  # Multiplica cada elemento por 2\n",
    "\n",
    "print(suma)\n",
    "print(producto)"
   ]
  },
  {
   "cell_type": "markdown",
   "metadata": {},
   "source": [
    "### Matrices y Vectores Multidimensionales en Python: Un Enfoque con NumPy\n",
    "   - Vectores: Son arreglos unidimensionales que representan una secuencia de elementos.\n",
    "   - Matrices: Son arreglos bidimensionales que representan tablas de datos, con filas y columnas.\n",
    "   - Tensores: Son generalizaciones de matrices a más de dos dimensiones."
   ]
  },
  {
   "cell_type": "markdown",
   "metadata": {},
   "source": [
    "<img src=https://miro.medium.com/v2/resize:fit:978/1*PxcT_3es1FG2EBsy9C3uxA.png>"
   ]
  },
  {
   "cell_type": "markdown",
   "metadata": {},
   "source": [
    "<table>\n",
    "<tr>\n",
    "  <th> scalar, forma: <code>[]</code></th>\n",
    "  <th> vector, forma: <code>[3]</code></th>\n",
    "  <th> matriz, forma: <code>[3, 2]</code></th>\n",
    "</tr>\n",
    "<tr>\n",
    "  <td>\n",
    "   <img src=\"https://www.tensorflow.org/guide/images/tensor/scalar.png?hl=es-419\" alt=\"A scalar, the number 4\" />\n",
    "  </td>\n",
    "\n",
    "  <td>\n",
    "   <img src=https://www.tensorflow.org/guide/images/tensor/vector.png?hl=es-419\" alt=\"The line with 3 sections, each one containing a number.\"/>\n",
    "  </td>\n",
    "  <td>\n",
    "   <img src=\"https://www.tensorflow.org/guide/images/tensor/matrix.png?hl=es-419\" alt=\"A 3x2 grid, with each cell containing a number.\">\n",
    "  </td>\n",
    "</tr>\n",
    "</table>"
   ]
  },
  {
   "cell_type": "code",
   "execution_count": 149,
   "metadata": {},
   "outputs": [
    {
     "name": "stdout",
     "output_type": "stream",
     "text": [
      "escalar: 4 ()\n"
     ]
    }
   ],
   "source": [
    "x=np.array(4)\n",
    "print('escalar:', x,x.shape)"
   ]
  },
  {
   "cell_type": "code",
   "execution_count": 150,
   "metadata": {},
   "outputs": [
    {
     "name": "stdout",
     "output_type": "stream",
     "text": [
      "[2 3 4] (3,)\n"
     ]
    }
   ],
   "source": [
    "import numpy as np\n",
    "\n",
    "# Crear un vector fila\n",
    "vector_fila = np.array([2, 3, 4])\n",
    "print(vector_fila,vector_fila.shape)\n"
   ]
  },
  {
   "cell_type": "code",
   "execution_count": 151,
   "metadata": {},
   "outputs": [
    {
     "name": "stdout",
     "output_type": "stream",
     "text": [
      "[[2]\n",
      " [3]\n",
      " [4]] (3, 1)\n"
     ]
    }
   ],
   "source": [
    "# Crear un vector columna\n",
    "vector_columna = np.array([ [2],\n",
    "                            [3],\n",
    "                            [4]])\n",
    "print(vector_columna,vector_columna.shape)"
   ]
  },
  {
   "cell_type": "markdown",
   "metadata": {},
   "source": [
    "| 1  | 2  | 3 |\n",
    "|---|---|---|\n",
    "| 4  | 5  | 6 |\n",
    "| 7  | 8  | 9 |"
   ]
  },
  {
   "cell_type": "code",
   "execution_count": 152,
   "metadata": {},
   "outputs": [
    {
     "name": "stdout",
     "output_type": "stream",
     "text": [
      "[[1 2]\n",
      " [3 4]\n",
      " [5 6]]\n"
     ]
    }
   ],
   "source": [
    "# Crear una matriz 3x2\n",
    "matriz = np.array([[1, 2],\n",
    "                   [3,4],\n",
    "                   [5,6]])\n",
    "print(matriz)\n"
   ]
  },
  {
   "cell_type": "code",
   "execution_count": 153,
   "metadata": {},
   "outputs": [
    {
     "name": "stdout",
     "output_type": "stream",
     "text": [
      "[[1. 0. 0.]\n",
      " [0. 1. 0.]\n",
      " [0. 0. 1.]]\n"
     ]
    }
   ],
   "source": [
    "print(np.identity(3))"
   ]
  },
  {
   "cell_type": "markdown",
   "metadata": {},
   "source": [
    "<table>\n",
    "<tr>\n",
    "  <th colspan=3>3-ejes tensor, forma: <code>[3, 2, 5]</code></th>\n",
    "<tr>\n",
    "<tr>\n",
    "  <td>\n",
    "   <img src=\"https://www.tensorflow.org/guide/images/tensor/3-axis_numpy.png?hl=es-419\"/>\n",
    "  </td>\n",
    "  <td>\n",
    "   <img src=\"https://www.tensorflow.org/guide/images/tensor/3-axis_front.png?hl=es-419\"/>\n",
    "  </td>\n",
    "\n",
    "  <td>\n",
    "   <img src=\"https://www.tensorflow.org/guide/images/tensor/3-axis_block.png?hl=es-419\"/>\n",
    "  </td>\n",
    "</tr>\n",
    "\n",
    "</table>"
   ]
  },
  {
   "cell_type": "code",
   "execution_count": 154,
   "metadata": {},
   "outputs": [
    {
     "name": "stdout",
     "output_type": "stream",
     "text": [
      "[[[ 0  1  2  3  4]\n",
      "  [ 5  6  7  8  9]]\n",
      "\n",
      " [[10 11 12 13 14]\n",
      "  [15 16 17 18 19]]\n",
      "\n",
      " [[20 21 22 23 24]\n",
      "  [25 26 27 28 29]]] (3, 2, 5)\n"
     ]
    }
   ],
   "source": [
    "# Crear un tensor 3D de dimensiones 2x3x4\n",
    "tensor = np.arange(30).reshape(3, 2, 5)\n",
    "print(tensor,tensor.shape)"
   ]
  },
  {
   "cell_type": "markdown",
   "metadata": {},
   "source": [
    "<table>\n",
    "<tr>\n",
    "  <th colspan=2>rango-4 tensor, forma: <code>[3, 2, 4, 5]</code></th>\n",
    "</tr>\n",
    "<tr>\n",
    "  <td>\n",
    "<img src=\"https://www.tensorflow.org/guide/images/tensor/shape.png?hl=es-419\" alt=\"A tensor shape is like a vector.\">\n",
    "    <td>\n",
    "<img src=\"https://www.tensorflow.org/guide/images/tensor/4-axis_block.png?hl=es-419\" alt=\"A 4-axis tensor\">\n",
    "  </td>\n",
    "  </tr>\n",
    "</table>"
   ]
  },
  {
   "cell_type": "code",
   "execution_count": 155,
   "metadata": {},
   "outputs": [
    {
     "name": "stdout",
     "output_type": "stream",
     "text": [
      "[[[[9 2 7 2 0]\n",
      "   [1 7 5 9 8]\n",
      "   [1 4 8 0 1]\n",
      "   [6 6 6 2 6]]\n",
      "\n",
      "  [[0 5 7 1 1]\n",
      "   [9 9 8 0 8]\n",
      "   [5 5 0 4 4]\n",
      "   [4 6 1 7 9]]]\n",
      "\n",
      "\n",
      " [[[4 3 6 8 9]\n",
      "   [3 0 1 6 5]\n",
      "   [2 8 0 2 8]\n",
      "   [8 1 2 5 3]]\n",
      "\n",
      "  [[8 6 9 3 7]\n",
      "   [3 3 1 8 7]\n",
      "   [9 0 9 8 2]\n",
      "   [1 7 4 7 6]]]\n",
      "\n",
      "\n",
      " [[[7 4 6 3 3]\n",
      "   [8 1 8 5 4]\n",
      "   [7 9 0 8 8]\n",
      "   [2 3 3 9 3]]\n",
      "\n",
      "  [[6 5 2 5 1]\n",
      "   [3 6 9 2 4]\n",
      "   [7 8 3 2 2]\n",
      "   [2 8 2 8 6]]]] (3, 2, 4, 5)\n"
     ]
    }
   ],
   "source": [
    "\n",
    "# Crear un tensor 4D de dimensiones 3x2x4x5\n",
    "tensor_4d = np.random.randint(0, 10, size=(3,2 , 4, 5))\n",
    "print(tensor_4d,tensor_4d.shape)"
   ]
  },
  {
   "cell_type": "code",
   "execution_count": 156,
   "metadata": {},
   "outputs": [
    {
     "name": "stdout",
     "output_type": "stream",
     "text": [
      "[[1 2]\n",
      " [3 4]]\n"
     ]
    }
   ],
   "source": [
    "# Crear arrays\n",
    "a = np.array([[1, 2], [3, 4]])\n",
    "b = np.array([[5, 6]])\n",
    "print(a.view())"
   ]
  },
  {
   "cell_type": "code",
   "execution_count": 157,
   "metadata": {},
   "outputs": [
    {
     "name": "stdout",
     "output_type": "stream",
     "text": [
      "[[5 6]]\n"
     ]
    }
   ],
   "source": [
    "print(b.view())"
   ]
  },
  {
   "cell_type": "code",
   "execution_count": 158,
   "metadata": {},
   "outputs": [
    {
     "name": "stdout",
     "output_type": "stream",
     "text": [
      "[[1 2]\n",
      " [3 4]\n",
      " [5 6]]\n"
     ]
    }
   ],
   "source": [
    "# Concatenar verticalmente\n",
    "c = np.concatenate((a, b), axis=0)\n",
    "print(c)\n"
   ]
  },
  {
   "cell_type": "code",
   "execution_count": 159,
   "metadata": {},
   "outputs": [
    {
     "name": "stdout",
     "output_type": "stream",
     "text": [
      "[[1 2 5]\n",
      " [3 4 6]]\n"
     ]
    }
   ],
   "source": [
    "# Concatenar horizontalmente\n",
    "d = np.concatenate((a, b.T), axis=1)\n",
    "print(d)  "
   ]
  },
  {
   "cell_type": "markdown",
   "metadata": {},
   "source": [
    "## División de Arrays\n",
    "\n",
    "- La división de arrays puede referirse a:\n",
    "\n",
    "    - División elemento a elemento: Se realiza con el operador /.\n",
    "    - División entera: Se realiza con el operador //.\n",
    "    - División matricial: Se realiza con la función np.linalg.inv."
   ]
  },
  {
   "cell_type": "code",
   "execution_count": 160,
   "metadata": {},
   "outputs": [
    {
     "name": "stdout",
     "output_type": "stream",
     "text": [
      "[5. 4. 3.]\n"
     ]
    }
   ],
   "source": [
    "# División elemento a elemento\n",
    "a = np.array([10, 20, 30])\n",
    "b = np.array([2, 5, 10])\n",
    "c = a / b\n",
    "print(c) \n"
   ]
  },
  {
   "cell_type": "code",
   "execution_count": 161,
   "metadata": {},
   "outputs": [
    {
     "name": "stdout",
     "output_type": "stream",
     "text": [
      "[[1 2]\n",
      " [3 4]]\n",
      "[[-2.   1. ]\n",
      " [ 1.5 -0.5]]\n"
     ]
    }
   ],
   "source": [
    "# División matricial (inversa)\n",
    "A = np.array([[1, 2], [3, 4]])\n",
    "print(A)\n",
    "inv_A = np.linalg.inv(A)\n",
    "print(inv_A)"
   ]
  },
  {
   "cell_type": "code",
   "execution_count": 162,
   "metadata": {},
   "outputs": [
    {
     "name": "stdout",
     "output_type": "stream",
     "text": [
      "[[1.0000000e+00 0.0000000e+00]\n",
      " [8.8817842e-16 1.0000000e+00]]\n"
     ]
    }
   ],
   "source": [
    "##producto matricial\n",
    "multi=np.matmul(A,inv_A)\n",
    "print(multi)"
   ]
  },
  {
   "cell_type": "code",
   "execution_count": 163,
   "metadata": {},
   "outputs": [
    {
     "name": "stdout",
     "output_type": "stream",
     "text": [
      "[[1.0000000e+00 0.0000000e+00]\n",
      " [8.8817842e-16 1.0000000e+00]]\n"
     ]
    }
   ],
   "source": [
    "##producto matricial\n",
    "multi=A@inv_A\n",
    "print(multi)"
   ]
  },
  {
   "cell_type": "code",
   "execution_count": 164,
   "metadata": {},
   "outputs": [
    {
     "name": "stdout",
     "output_type": "stream",
     "text": [
      "[[ 1  4]\n",
      " [ 9 16]]\n"
     ]
    }
   ],
   "source": [
    "#El operador * en los numpy.ndarray realiza multiplicaciones elemento a elemento\n",
    "print(A*A)"
   ]
  },
  {
   "cell_type": "markdown",
   "metadata": {},
   "source": [
    "### Transposición de Arrays\n",
    "\n",
    "- La transposición intercambia filas y columnas de un array"
   ]
  },
  {
   "cell_type": "code",
   "execution_count": 165,
   "metadata": {},
   "outputs": [
    {
     "name": "stdout",
     "output_type": "stream",
     "text": [
      "[[1 2 3]\n",
      " [4 5 6]]\n"
     ]
    }
   ],
   "source": [
    "import numpy as np\n",
    "\n",
    "a = np.array([[1, 2, 3], [4, 5, 6]])\n",
    "print(a)\n"
   ]
  },
  {
   "cell_type": "code",
   "execution_count": 166,
   "metadata": {},
   "outputs": [
    {
     "name": "stdout",
     "output_type": "stream",
     "text": [
      "[[1 4]\n",
      " [2 5]\n",
      " [3 6]]\n"
     ]
    }
   ],
   "source": [
    "###\n",
    "a_transpose = a.T\n",
    "print(a_transpose)"
   ]
  },
  {
   "cell_type": "markdown",
   "metadata": {},
   "source": [
    "- Otras Operaciones Útiles:\n",
    "\n",
    "    - Reshaping: Cambia la forma de un array sin modificar sus datos.\n",
    "    - Stacking: Apila múltiples arrays a lo largo de un nuevo eje.\n",
    "    - Splitting: Divide un array en múltiples subarrays.\n",
    "    - tile:  repetir el arreglo varias veces a lo largo de los ejes"
   ]
  },
  {
   "cell_type": "code",
   "execution_count": 167,
   "metadata": {},
   "outputs": [
    {
     "name": "stdout",
     "output_type": "stream",
     "text": [
      "[[ 0  1  2]\n",
      " [ 3  4  5]\n",
      " [ 6  7  8]\n",
      " [ 9 10 11]] (4, 3)\n"
     ]
    }
   ],
   "source": [
    "# Reshaping\n",
    "a = np.arange(12).reshape(4, 3)\n",
    "print(a,a.shape)"
   ]
  },
  {
   "cell_type": "code",
   "execution_count": 168,
   "metadata": {},
   "outputs": [
    {
     "name": "stdout",
     "output_type": "stream",
     "text": [
      "[[1 2 3]\n",
      " [4 5 6]]\n"
     ]
    }
   ],
   "source": [
    "import numpy as np\n",
    "\n",
    "a = np.array([1, 2, 3])\n",
    "b = np.array([4, 5, 6])\n",
    "\n",
    "# Apila verticalmente\n",
    "stacked_vertical = np.vstack((a, b))\n",
    "print(stacked_vertical)"
   ]
  },
  {
   "cell_type": "code",
   "execution_count": 169,
   "metadata": {},
   "outputs": [
    {
     "name": "stdout",
     "output_type": "stream",
     "text": [
      "[1 2 3 4 5 6]\n"
     ]
    }
   ],
   "source": [
    "# Apila horizontalmente\n",
    "stacked_horizontal = np.hstack((a, b))\n",
    "print(stacked_horizontal)"
   ]
  },
  {
   "cell_type": "code",
   "execution_count": 170,
   "metadata": {},
   "outputs": [
    {
     "name": "stdout",
     "output_type": "stream",
     "text": [
      "[[[1 4 7]\n",
      "  [2 5 8]\n",
      "  [3 6 9]]]\n"
     ]
    }
   ],
   "source": [
    "c = np.array([7, 8, 9])\n",
    "stacked_depth = np.dstack((a, b, c)) #a lo largo del tercer eje\n",
    "print(stacked_depth)"
   ]
  },
  {
   "cell_type": "code",
   "execution_count": 171,
   "metadata": {},
   "outputs": [
    {
     "data": {
      "text/plain": [
       "[array([0, 1, 2]), array([3, 4, 5]), array([6, 7, 8])]"
      ]
     },
     "execution_count": 171,
     "metadata": {},
     "output_type": "execute_result"
    }
   ],
   "source": [
    "import numpy as np\n",
    "x = np.arange(9)\n",
    "np.split(x, 3)"
   ]
  },
  {
   "cell_type": "code",
   "execution_count": 172,
   "metadata": {},
   "outputs": [
    {
     "data": {
      "text/plain": [
       "array([[1, 2, 3, 4],\n",
       "       [1, 2, 3, 4],\n",
       "       [1, 2, 3, 4],\n",
       "       [1, 2, 3, 4]])"
      ]
     },
     "execution_count": 172,
     "metadata": {},
     "output_type": "execute_result"
    }
   ],
   "source": [
    "#repetir el arrgle n veces\n",
    "c = np.array([1,2,3,4])\n",
    "np.tile(c,(4,1))"
   ]
  },
  {
   "cell_type": "code",
   "execution_count": 173,
   "metadata": {},
   "outputs": [
    {
     "data": {
      "text/plain": [
       "array([[1, 2, 3, 4, 1, 2, 3, 4, 1, 2, 3, 4, 1, 2, 3, 4]])"
      ]
     },
     "execution_count": 173,
     "metadata": {},
     "output_type": "execute_result"
    }
   ],
   "source": [
    "#repetir el arrgle n veces\n",
    "c = np.array([1,2,3,4])\n",
    "np.tile(c,(1,4))"
   ]
  },
  {
   "cell_type": "markdown",
   "metadata": {},
   "source": [
    "# CLASES:\n",
    "#### Una clase es una plantilla que define cómo se creará un objeto. Los objetos son instancias de una clase. Las clases son una de las características más poderosas de Python y son fundamentales para la programación orientada a objetos (POO).\n",
    "\n",
    "Crear una clase en Python se puede hacer un tan sólo dos líneas de código haciendo uso de la palabra class.\n",
    "    \n",
    "    class MiClase:\n",
    "        pass\n",
    "\n",
    "Podemos añadir algún atributo de clase. En este caso tenemos atributos generales que pertenecen a la clase\n",
    "\n",
    "    class MiClase:\n",
    "        atributo1 = \"valor1\"\n",
    "        atributo2 = \"valor2\"\n",
    "\n",
    "Toda clase tiene un constructor, que recibe unos parámetros de entrada cuando el objeto es creado. Creamos por lo tanto el constructor __init__.\n",
    "\n",
    "    class MiClase:\n",
    "        atributo1 = \"valor1\"\n",
    "        atributo2 = \"valor2\"\n",
    "        def __init__(self, argumento1):\n",
    "            self.argumento1 = argumento1\n",
    "\n",
    "A parte de atributos y el constructor, toda clase tiene un conjunto de funciones o métodos que realizan diferentes funcionalidades. Creamos la funcion1().\n",
    "\n",
    "    class MiClase:\n",
    "        atributo1 = \"valor1\"\n",
    "        atributo2 = \"valor2\"\n",
    "        def __init__(self, argumento1):\n",
    "            self.argumento1 = argumento1\n",
    "        def funcion1(self):\n",
    "           print(\"Esta es la función 1\")\n",
    "\n",
    "A diferencia de la clase, un objeto define una clase particular, con unos atributos particulares para ese objeto. Es decir, el objeto es la instancia de la clase.\n",
    "\n",
    "    mi_instancia_clase = MiClase(\"valor args\")\n",
    "\n",
    "Una vez tenemos el objeto mi_clase, podemos acceder a todo su contenido, tanto métodos como atributos de clase o de instancia. Simplemente hay que usar el objeto . y el método o atributo.\n",
    "\n",
    "    mi_clase.atributo1\n",
    "    mi_clase.atributo2\n",
    "    mi_clase.argumento1\n",
    "    mi_clase.funcion1()\n",
    "\n"
   ]
  },
  {
   "cell_type": "code",
   "execution_count": 180,
   "metadata": {},
   "outputs": [],
   "source": [
    "class Perro:\n",
    "    def __init__(self, nombre, raza):\n",
    "        self.nombre = nombre\n",
    "        self.raza = raza\n",
    "\n",
    "    def ladrar(self):\n",
    "        print(f\"{self.nombre} está ladrando!\")\n",
    "\n",
    "    def jugar(self):\n",
    "        print(f\"{self.nombre} está jugando.\")\n",
    "\n",
    "    def comer(self,comida):\n",
    "        print(f\"{self.nombre} está comiendo {comida}.\")"
   ]
  },
  {
   "cell_type": "markdown",
   "metadata": {},
   "source": [
    "- class Perro:: Define una nueva clase llamada \"Perro\".\n",
    "- __init__: Es un método especial llamado constructor. Se ejecuta automáticamente cuando se crea un nuevo objeto de la clase. Aquí se inicializan los atributos del objeto (nombre y raza).\n",
    "- self: Hace referencia al objeto actual.\n",
    "- ladrar y jugar: Son métodos que definen los comportamientos del objeto (ladrar y jugar)."
   ]
  },
  {
   "cell_type": "code",
   "execution_count": 181,
   "metadata": {},
   "outputs": [],
   "source": [
    "mi_perro = Perro(\"Firulais\", \"Labrador\")\n",
    "otro_perro = Perro(\"Toby\", \"Pastor alemán\")"
   ]
  },
  {
   "cell_type": "code",
   "execution_count": 182,
   "metadata": {},
   "outputs": [
    {
     "data": {
      "text/plain": [
       "'Labrador'"
      ]
     },
     "execution_count": 182,
     "metadata": {},
     "output_type": "execute_result"
    }
   ],
   "source": [
    "mi_perro.raza"
   ]
  },
  {
   "cell_type": "code",
   "execution_count": 186,
   "metadata": {},
   "outputs": [
    {
     "data": {
      "text/plain": [
       "'Pastor alemán'"
      ]
     },
     "execution_count": 186,
     "metadata": {},
     "output_type": "execute_result"
    }
   ],
   "source": [
    "otro_perro.raza"
   ]
  },
  {
   "cell_type": "code",
   "execution_count": 183,
   "metadata": {},
   "outputs": [
    {
     "data": {
      "text/plain": [
       "'Firulais'"
      ]
     },
     "execution_count": 183,
     "metadata": {},
     "output_type": "execute_result"
    }
   ],
   "source": [
    "mi_perro.nombre"
   ]
  },
  {
   "cell_type": "code",
   "execution_count": 184,
   "metadata": {},
   "outputs": [
    {
     "name": "stdout",
     "output_type": "stream",
     "text": [
      "Firulais está ladrando!\n"
     ]
    }
   ],
   "source": [
    "mi_perro.ladrar()"
   ]
  },
  {
   "cell_type": "code",
   "execution_count": 185,
   "metadata": {},
   "outputs": [
    {
     "name": "stdout",
     "output_type": "stream",
     "text": [
      "Firulais está comiendo concentrado.\n"
     ]
    }
   ],
   "source": [
    "mi_perro.comer('concentrado')"
   ]
  },
  {
   "cell_type": "code",
   "execution_count": 199,
   "metadata": {},
   "outputs": [],
   "source": [
    "class CuentaBancaria:\n",
    "    def __init__(self, titular, saldo_inicial=0):\n",
    "        self.titular = titular\n",
    "        self.saldo = saldo_inicial\n",
    "\n",
    "    def depositar(self, cantidad):\n",
    "        self.saldo += cantidad\n",
    "        print(f\"Se depositaron ${cantidad}. Saldo actual: ${self.saldo}\")\n",
    "\n",
    "    def retirar(self, cantidad):\n",
    "        if cantidad <= self.saldo:\n",
    "            self.saldo -= cantidad\n",
    "            print(f\"Se retiraron ${cantidad}. Saldo actual: ${self.saldo}\")\n",
    "        else:\n",
    "            print(\"Fondos insuficientes.\")\n",
    "\n",
    "# Crear una cuenta bancaria\n",
    "mi_cuenta = CuentaBancaria(\"Juan A\", 10000)\n",
    "otra_cuenta = CuentaBancaria(\"Pedro B\", 10000)\n"
   ]
  },
  {
   "cell_type": "code",
   "execution_count": 192,
   "metadata": {},
   "outputs": [
    {
     "data": {
      "text/plain": [
       "'Juan A'"
      ]
     },
     "execution_count": 192,
     "metadata": {},
     "output_type": "execute_result"
    }
   ],
   "source": [
    "mi_cuenta.titular"
   ]
  },
  {
   "cell_type": "code",
   "execution_count": 193,
   "metadata": {},
   "outputs": [
    {
     "data": {
      "text/plain": [
       "10000"
      ]
     },
     "execution_count": 193,
     "metadata": {},
     "output_type": "execute_result"
    }
   ],
   "source": [
    "mi_cuenta.saldo"
   ]
  },
  {
   "cell_type": "code",
   "execution_count": 194,
   "metadata": {},
   "outputs": [
    {
     "name": "stdout",
     "output_type": "stream",
     "text": [
      "Se depositaron $5000. Saldo actual: $15000\n"
     ]
    }
   ],
   "source": [
    "mi_cuenta.depositar(5000)"
   ]
  },
  {
   "cell_type": "code",
   "execution_count": 195,
   "metadata": {},
   "outputs": [
    {
     "data": {
      "text/plain": [
       "15000"
      ]
     },
     "execution_count": 195,
     "metadata": {},
     "output_type": "execute_result"
    }
   ],
   "source": [
    "mi_cuenta.saldo"
   ]
  },
  {
   "cell_type": "code",
   "execution_count": 196,
   "metadata": {},
   "outputs": [
    {
     "name": "stdout",
     "output_type": "stream",
     "text": [
      "Se retiraron $200. Saldo actual: $14800\n"
     ]
    }
   ],
   "source": [
    "mi_cuenta.retirar(200)"
   ]
  },
  {
   "cell_type": "code",
   "execution_count": 197,
   "metadata": {},
   "outputs": [
    {
     "data": {
      "text/plain": [
       "14800"
      ]
     },
     "execution_count": 197,
     "metadata": {},
     "output_type": "execute_result"
    }
   ],
   "source": [
    "mi_cuenta.saldo"
   ]
  },
  {
   "cell_type": "code",
   "execution_count": 198,
   "metadata": {},
   "outputs": [
    {
     "name": "stdout",
     "output_type": "stream",
     "text": [
      "Fondos insuficientes.\n"
     ]
    }
   ],
   "source": [
    "mi_cuenta.retirar(20000)"
   ]
  },
  {
   "cell_type": "code",
   "execution_count": 200,
   "metadata": {},
   "outputs": [
    {
     "data": {
      "text/plain": [
       "'Pedro B'"
      ]
     },
     "execution_count": 200,
     "metadata": {},
     "output_type": "execute_result"
    }
   ],
   "source": [
    "otra_cuenta.titular"
   ]
  },
  {
   "cell_type": "code",
   "execution_count": 201,
   "metadata": {},
   "outputs": [
    {
     "data": {
      "text/plain": [
       "10000"
      ]
     },
     "execution_count": 201,
     "metadata": {},
     "output_type": "execute_result"
    }
   ],
   "source": [
    "otra_cuenta.saldo"
   ]
  },
  {
   "cell_type": "markdown",
   "metadata": {},
   "source": [
    "Tarea: Herencia\n",
    "Polimorfismo\n",
    "Encapsulación\n",
    "Métodos especiales (como __str__, __repr__)\n",
    "Decoradores"
   ]
  },
  {
   "cell_type": "code",
   "execution_count": null,
   "metadata": {},
   "outputs": [],
   "source": []
  }
 ],
 "metadata": {
  "kernelspec": {
   "display_name": "Python 3",
   "language": "python",
   "name": "python3"
  },
  "language_info": {
   "codemirror_mode": {
    "name": "ipython",
    "version": 3
   },
   "file_extension": ".py",
   "mimetype": "text/x-python",
   "name": "python",
   "nbconvert_exporter": "python",
   "pygments_lexer": "ipython3",
   "version": "3.9.18"
  }
 },
 "nbformat": 4,
 "nbformat_minor": 2
}
